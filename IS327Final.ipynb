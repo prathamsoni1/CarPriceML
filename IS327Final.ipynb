{
 "cells": [
  {
   "cell_type": "code",
   "execution_count": 29,
   "metadata": {},
   "outputs": [
    {
     "name": "stdout",
     "output_type": "stream",
     "text": [
      "Hello\n"
     ]
    }
   ],
   "source": [
    "print(\"Hello\")"
   ]
  },
  {
   "cell_type": "code",
   "execution_count": 1,
   "metadata": {},
   "outputs": [
    {
     "name": "stdout",
     "output_type": "stream",
     "text": [
      "   year   make                model        trim   body transmission state   \n",
      "0  2015    Kia              Sorento          LX    SUV    automatic    ca  \\\n",
      "1  2015    Kia              Sorento          LX    SUV    automatic    ca   \n",
      "2  2014    BMW             3 Series  328i SULEV  Sedan    automatic    ca   \n",
      "3  2015  Volvo                  S60          T5  Sedan    automatic    ca   \n",
      "4  2014    BMW  6 Series Gran Coupe        650i  Sedan    automatic    ca   \n",
      "\n",
      "   condition  odometer  color interior    mmr  sellingprice  \n",
      "0        5.0   16639.0  white    black  20500         21500  \n",
      "1        5.0    9393.0  white    beige  20800         21500  \n",
      "2        4.5    1331.0   gray    black  31900         30000  \n",
      "3        4.1   14282.0  white    black  27500         27750  \n",
      "4        4.3    2641.0   gray    black  66000         67000  \n"
     ]
    }
   ],
   "source": [
    "import pandas as pd\n",
    "import numpy as np\n",
    "import matplotlib.pyplot as plt\n",
    "import seaborn as sns\n",
    "import csv\n",
    "from sklearn.model_selection import train_test_split\n",
    "from sklearn.preprocessing import StandardScaler\n",
    "from sklearn.ensemble import RandomForestRegressor\n",
    "from sklearn.metrics import mean_squared_error, r2_score\n",
    "from sklearn.model_selection import GridSearchCV\n",
    "from sklearn.impute import SimpleImputer\n",
    "\n",
    "\n",
    "def handle_bad_lines(line):\n",
    "    #print(f\"Skipping bad line: {line}\")\n",
    "    return None\n",
    "\n",
    "\n",
    "car_prices= pd.read_csv('car_prices.csv', engine='python', on_bad_lines=handle_bad_lines)\n",
    "car_prices.drop(columns=['vin','saledate','seller'], inplace=True)\n",
    "print(car_prices.head())"
   ]
  },
  {
   "cell_type": "code",
   "execution_count": 3,
   "metadata": {},
   "outputs": [
    {
     "name": "stdout",
     "output_type": "stream",
     "text": [
      "481752\n"
     ]
    }
   ],
   "source": [
    "car_prices.dropna(subset=['make','model','trim','body','transmission','color','interior','state'], inplace=True)\n",
    "car_prices['odometer'].fillna(car_prices['odometer'].median(), inplace=True)\n",
    "car_prices['condition'].fillna(car_prices['condition'].median(), inplace=True)\n",
    "print(car_prices.shape[0])"
   ]
  },
  {
   "cell_type": "code",
   "execution_count": 4,
   "metadata": {},
   "outputs": [
    {
     "name": "stdout",
     "output_type": "stream",
     "text": [
      "481691\n"
     ]
    }
   ],
   "source": [
    "car_prices = car_prices[car_prices['sellingprice']<125000]\n",
    "print(car_prices.shape[0])"
   ]
  },
  {
   "cell_type": "code",
   "execution_count": 5,
   "metadata": {},
   "outputs": [],
   "source": [
    "car_prices = pd.get_dummies(car_prices, columns=['make','model','trim','body','transmission','color','interior','state'],)\n",
    "#print(car_prices.columns)"
   ]
  },
  {
   "cell_type": "code",
   "execution_count": 6,
   "metadata": {},
   "outputs": [
    {
     "name": "stdout",
     "output_type": "stream",
     "text": [
      "        year  condition  odometer    mmr  make_Acura  make_Aston Martin   \n",
      "95134   1999        1.9  224009.0   1275        True              False  \\\n",
      "455846  2014        4.2   30862.0  17250       False              False   \n",
      "204992  2004        2.4  113658.0   2925       False              False   \n",
      "471304  2003        4.7   85229.0   2625       False              False   \n",
      "341201  2014        3.8   35187.0  13250       False              False   \n",
      "...      ...        ...       ...    ...         ...                ...   \n",
      "299103  2014        3.6   17230.0  15450       False              False   \n",
      "422139  2014        3.8   33402.0  15150       False              False   \n",
      "153943  2010        3.2  111959.0   9225       False              False   \n",
      "170984  2008        2.5  108426.0   7000       False              False   \n",
      "141814  1998        2.0  148384.0    750       False              False   \n",
      "\n",
      "        make_Audi  make_BMW  make_Bentley  make_Buick  ...  state_or   \n",
      "95134       False     False         False       False  ...     False  \\\n",
      "455846      False     False         False       False  ...      True   \n",
      "204992      False     False         False       False  ...     False   \n",
      "471304      False     False         False        True  ...     False   \n",
      "341201      False     False         False       False  ...     False   \n",
      "...           ...       ...           ...         ...  ...       ...   \n",
      "299103      False     False         False       False  ...     False   \n",
      "422139      False     False         False       False  ...     False   \n",
      "153943      False     False         False       False  ...     False   \n",
      "170984      False     False         False       False  ...     False   \n",
      "141814      False     False         False       False  ...     False   \n",
      "\n",
      "        state_pa  state_pr  state_sc  state_tn  state_tx  state_ut  state_va   \n",
      "95134      False     False     False     False     False     False     False  \\\n",
      "455846     False     False     False     False     False     False     False   \n",
      "204992     False     False     False     False     False     False     False   \n",
      "471304     False     False     False     False     False     False     False   \n",
      "341201     False     False     False     False     False     False     False   \n",
      "...          ...       ...       ...       ...       ...       ...       ...   \n",
      "299103     False     False     False     False     False     False     False   \n",
      "422139     False     False     False     False     False     False     False   \n",
      "153943     False     False     False     False     False     False     False   \n",
      "170984     False     False     False     False     False     False     False   \n",
      "141814     False     False     False     False     False     False     False   \n",
      "\n",
      "        state_wa  state_wi  \n",
      "95134      False     False  \n",
      "455846     False     False  \n",
      "204992     False     False  \n",
      "471304     False     False  \n",
      "341201     False     False  \n",
      "...          ...       ...  \n",
      "299103      True     False  \n",
      "422139     False     False  \n",
      "153943     False     False  \n",
      "170984     False     False  \n",
      "141814     False     False  \n",
      "\n",
      "[385352 rows x 2491 columns]         year  condition  odometer    mmr  make_Acura  make_Aston Martin   \n",
      "399749  2006        2.8  122404.0   4250       False              False  \\\n",
      "531060  2014        4.4   34245.0  10600       False              False   \n",
      "80237   2012        4.7   36130.0  12150       False              False   \n",
      "219861  2012        4.4   35867.0  22300       False              False   \n",
      "159480  2002        1.9  150440.0    825       False              False   \n",
      "...      ...        ...       ...    ...         ...                ...   \n",
      "477402  2014        4.8   15497.0  11850       False              False   \n",
      "211282  2011        4.2   48751.0  17550       False              False   \n",
      "56317   2012        3.3   55284.0  17000       False              False   \n",
      "508551  2013        4.4   13103.0  25100       False              False   \n",
      "275156  2007        2.8  129499.0   3350       False              False   \n",
      "\n",
      "        make_Audi  make_BMW  make_Bentley  make_Buick  ...  state_or   \n",
      "399749      False     False         False       False  ...     False  \\\n",
      "531060      False     False         False       False  ...     False   \n",
      "80237       False     False         False       False  ...     False   \n",
      "219861      False      True         False       False  ...     False   \n",
      "159480      False     False         False       False  ...     False   \n",
      "...           ...       ...           ...         ...  ...       ...   \n",
      "477402      False     False         False       False  ...     False   \n",
      "211282      False     False         False       False  ...     False   \n",
      "56317       False     False         False       False  ...     False   \n",
      "508551      False     False         False       False  ...     False   \n",
      "275156      False     False         False       False  ...     False   \n",
      "\n",
      "        state_pa  state_pr  state_sc  state_tn  state_tx  state_ut  state_va   \n",
      "399749     False     False     False     False     False     False     False  \\\n",
      "531060     False     False     False     False     False     False     False   \n",
      "80237      False     False     False     False     False     False     False   \n",
      "219861     False     False     False     False     False     False     False   \n",
      "159480     False     False     False     False     False     False     False   \n",
      "...          ...       ...       ...       ...       ...       ...       ...   \n",
      "477402     False     False     False     False     False     False     False   \n",
      "211282     False     False     False     False     False     False     False   \n",
      "56317      False     False     False     False     False     False     False   \n",
      "508551     False     False     False     False     False     False     False   \n",
      "275156     False     False     False     False     False     False     False   \n",
      "\n",
      "        state_wa  state_wi  \n",
      "399749     False     False  \n",
      "531060     False     False  \n",
      "80237      False     False  \n",
      "219861     False     False  \n",
      "159480     False     False  \n",
      "...          ...       ...  \n",
      "477402     False     False  \n",
      "211282     False     False  \n",
      "56317      False     False  \n",
      "508551     False     False  \n",
      "275156     False     False  \n",
      "\n",
      "[96339 rows x 2491 columns] 95134      2100\n",
      "455846    17500\n",
      "204992     2000\n",
      "471304     4500\n",
      "341201    14400\n",
      "          ...  \n",
      "299103    16000\n",
      "422139    15200\n",
      "153943     7800\n",
      "170984     7100\n",
      "141814      800\n",
      "Name: sellingprice, Length: 385352, dtype: int64 399749     6700\n",
      "531060    10700\n",
      "80237     13800\n",
      "219861    22200\n",
      "159480      500\n",
      "          ...  \n",
      "477402    12700\n",
      "211282    18250\n",
      "56317     17500\n",
      "508551    25800\n",
      "275156     1700\n",
      "Name: sellingprice, Length: 96339, dtype: int64\n"
     ]
    }
   ],
   "source": [
    "X = car_prices.drop(columns=['sellingprice'])\n",
    "y = car_prices['sellingprice']\n",
    "X_train, X_test, y_train, y_test = train_test_split(X,y,test_size=0.2, random_state=42)\n",
    "print(X_train, X_test, y_train, y_test)\n"
   ]
  },
  {
   "cell_type": "code",
   "execution_count": 7,
   "metadata": {},
   "outputs": [],
   "source": [
    "scaler = StandardScaler()\n",
    "X_train[['year','condition','odometer']]=scaler.fit_transform(X_train[['year','condition','odometer']])\n",
    "X_test[['year','condition','odometer']]=scaler.transform(X_test[['year','condition','odometer']])\n",
    "imputer = SimpleImputer(strategy='most_frequent')"
   ]
  },
  {
   "cell_type": "code",
   "execution_count": 8,
   "metadata": {},
   "outputs": [],
   "source": [
    "X_train = imputer.fit_transform(X_train)"
   ]
  },
  {
   "cell_type": "code",
   "execution_count": 9,
   "metadata": {},
   "outputs": [
    {
     "name": "stdout",
     "output_type": "stream",
     "text": [
      "481691\n",
      "None\n"
     ]
    }
   ],
   "source": [
    "print(car_prices.shape[0])\n",
    "new_cars = car_prices.dropna(inplace=True)\n",
    "print(new_cars)"
   ]
  },
  {
   "cell_type": "code",
   "execution_count": 10,
   "metadata": {},
   "outputs": [
    {
     "data": {
      "text/html": [
       "<style>#sk-container-id-1 {color: black;background-color: white;}#sk-container-id-1 pre{padding: 0;}#sk-container-id-1 div.sk-toggleable {background-color: white;}#sk-container-id-1 label.sk-toggleable__label {cursor: pointer;display: block;width: 100%;margin-bottom: 0;padding: 0.3em;box-sizing: border-box;text-align: center;}#sk-container-id-1 label.sk-toggleable__label-arrow:before {content: \"▸\";float: left;margin-right: 0.25em;color: #696969;}#sk-container-id-1 label.sk-toggleable__label-arrow:hover:before {color: black;}#sk-container-id-1 div.sk-estimator:hover label.sk-toggleable__label-arrow:before {color: black;}#sk-container-id-1 div.sk-toggleable__content {max-height: 0;max-width: 0;overflow: hidden;text-align: left;background-color: #f0f8ff;}#sk-container-id-1 div.sk-toggleable__content pre {margin: 0.2em;color: black;border-radius: 0.25em;background-color: #f0f8ff;}#sk-container-id-1 input.sk-toggleable__control:checked~div.sk-toggleable__content {max-height: 200px;max-width: 100%;overflow: auto;}#sk-container-id-1 input.sk-toggleable__control:checked~label.sk-toggleable__label-arrow:before {content: \"▾\";}#sk-container-id-1 div.sk-estimator input.sk-toggleable__control:checked~label.sk-toggleable__label {background-color: #d4ebff;}#sk-container-id-1 div.sk-label input.sk-toggleable__control:checked~label.sk-toggleable__label {background-color: #d4ebff;}#sk-container-id-1 input.sk-hidden--visually {border: 0;clip: rect(1px 1px 1px 1px);clip: rect(1px, 1px, 1px, 1px);height: 1px;margin: -1px;overflow: hidden;padding: 0;position: absolute;width: 1px;}#sk-container-id-1 div.sk-estimator {font-family: monospace;background-color: #f0f8ff;border: 1px dotted black;border-radius: 0.25em;box-sizing: border-box;margin-bottom: 0.5em;}#sk-container-id-1 div.sk-estimator:hover {background-color: #d4ebff;}#sk-container-id-1 div.sk-parallel-item::after {content: \"\";width: 100%;border-bottom: 1px solid gray;flex-grow: 1;}#sk-container-id-1 div.sk-label:hover label.sk-toggleable__label {background-color: #d4ebff;}#sk-container-id-1 div.sk-serial::before {content: \"\";position: absolute;border-left: 1px solid gray;box-sizing: border-box;top: 0;bottom: 0;left: 50%;z-index: 0;}#sk-container-id-1 div.sk-serial {display: flex;flex-direction: column;align-items: center;background-color: white;padding-right: 0.2em;padding-left: 0.2em;position: relative;}#sk-container-id-1 div.sk-item {position: relative;z-index: 1;}#sk-container-id-1 div.sk-parallel {display: flex;align-items: stretch;justify-content: center;background-color: white;position: relative;}#sk-container-id-1 div.sk-item::before, #sk-container-id-1 div.sk-parallel-item::before {content: \"\";position: absolute;border-left: 1px solid gray;box-sizing: border-box;top: 0;bottom: 0;left: 50%;z-index: -1;}#sk-container-id-1 div.sk-parallel-item {display: flex;flex-direction: column;z-index: 1;position: relative;background-color: white;}#sk-container-id-1 div.sk-parallel-item:first-child::after {align-self: flex-end;width: 50%;}#sk-container-id-1 div.sk-parallel-item:last-child::after {align-self: flex-start;width: 50%;}#sk-container-id-1 div.sk-parallel-item:only-child::after {width: 0;}#sk-container-id-1 div.sk-dashed-wrapped {border: 1px dashed gray;margin: 0 0.4em 0.5em 0.4em;box-sizing: border-box;padding-bottom: 0.4em;background-color: white;}#sk-container-id-1 div.sk-label label {font-family: monospace;font-weight: bold;display: inline-block;line-height: 1.2em;}#sk-container-id-1 div.sk-label-container {text-align: center;}#sk-container-id-1 div.sk-container {/* jupyter's `normalize.less` sets `[hidden] { display: none; }` but bootstrap.min.css set `[hidden] { display: none !important; }` so we also need the `!important` here to be able to override the default hidden behavior on the sphinx rendered scikit-learn.org. See: https://github.com/scikit-learn/scikit-learn/issues/21755 */display: inline-block !important;position: relative;}#sk-container-id-1 div.sk-text-repr-fallback {display: none;}</style><div id=\"sk-container-id-1\" class=\"sk-top-container\"><div class=\"sk-text-repr-fallback\"><pre>RandomForestRegressor(random_state=42)</pre><b>In a Jupyter environment, please rerun this cell to show the HTML representation or trust the notebook. <br />On GitHub, the HTML representation is unable to render, please try loading this page with nbviewer.org.</b></div><div class=\"sk-container\" hidden><div class=\"sk-item\"><div class=\"sk-estimator sk-toggleable\"><input class=\"sk-toggleable__control sk-hidden--visually\" id=\"sk-estimator-id-1\" type=\"checkbox\" checked><label for=\"sk-estimator-id-1\" class=\"sk-toggleable__label sk-toggleable__label-arrow\">RandomForestRegressor</label><div class=\"sk-toggleable__content\"><pre>RandomForestRegressor(random_state=42)</pre></div></div></div></div></div>"
      ],
      "text/plain": [
       "RandomForestRegressor(random_state=42)"
      ]
     },
     "execution_count": 10,
     "metadata": {},
     "output_type": "execute_result"
    }
   ],
   "source": [
    "rf = RandomForestRegressor(random_state=42)\n",
    "rf.fit(X_train, y_train)\n"
   ]
  },
  {
   "cell_type": "code",
   "execution_count": 11,
   "metadata": {},
   "outputs": [
    {
     "name": "stderr",
     "output_type": "stream",
     "text": [
      "/Library/Frameworks/Python.framework/Versions/3.11/lib/python3.11/site-packages/sklearn/base.py:432: UserWarning: X has feature names, but RandomForestRegressor was fitted without feature names\n",
      "  warnings.warn(\n"
     ]
    }
   ],
   "source": [
    "y_pred_train = rf.predict(X_train)\n",
    "y_pred_test = rf.predict(X_test)\n",
    "mse_train = mean_squared_error(y_train,y_pred_train)\n",
    "mse_test = mean_squared_error(y_test,y_pred_test)"
   ]
  },
  {
   "cell_type": "code",
   "execution_count": 12,
   "metadata": {},
   "outputs": [],
   "source": [
    "r2_train = r2_score(y_train,y_pred_train)\n",
    "r2_test = r2_score(y_test, y_pred_test)"
   ]
  },
  {
   "cell_type": "code",
   "execution_count": 13,
   "metadata": {},
   "outputs": [
    {
     "name": "stdout",
     "output_type": "stream",
     "text": [
      "Training set MSE:  309816.5853491317\n",
      "Testing set MSE:  2168123.4376830743\n",
      "Training set R-squared score: 0.996555837030447\n",
      "Testing set R-squared score:  0.9761132406049599\n"
     ]
    }
   ],
   "source": [
    "print(\"Training set MSE: \", mse_train)\n",
    "print(\"Testing set MSE: \", mse_test)\n",
    "print(\"Training set R-squared score:\", r2_train)\n",
    "print(\"Testing set R-squared score: \", r2_test)"
   ]
  },
  {
   "cell_type": "code",
   "execution_count": 28,
   "metadata": {},
   "outputs": [
    {
     "name": "stderr",
     "output_type": "stream",
     "text": [
      "/Library/Frameworks/Python.framework/Versions/3.11/lib/python3.11/site-packages/sklearn/base.py:432: UserWarning: X has feature names, but RandomForestRegressor was fitted without feature names\n",
      "  warnings.warn(\n"
     ]
    }
   ],
   "source": [
    "test_data = car_prices.sample(n=10, random_state=2)\n",
    "X_test = test_data.drop('sellingprice',axis=1)\n",
    "y_pred = rf.predict(X_test)\n",
    "y_true=test_data['sellingprice']"
   ]
  },
  {
   "cell_type": "code",
   "execution_count": 29,
   "metadata": {},
   "outputs": [
    {
     "name": "stdout",
     "output_type": "stream",
     "text": [
      "        year  condition  odometer    mmr  sellingprice  make_Acura   \n",
      "62937   2012        4.6   42753.0  15650         16000       False  \\\n",
      "417722  2013        2.5   16161.0  22500         19600       False   \n",
      "314054  2013        4.0   17988.0  16250         13200       False   \n",
      "279187  2010        4.0   79104.0   7450          8200       False   \n",
      "237139  2015        3.8   21121.0  17100         17400       False   \n",
      "60996   2013        4.3   72227.0  14650         14500       False   \n",
      "290764  2014        3.9    8288.0  12600         13000       False   \n",
      "356039  2003        2.9  182696.0   1750          3700       False   \n",
      "262007  2014        4.1    9101.0  27800         28500       False   \n",
      "355578  2013        4.9   11347.0  30900         33600       False   \n",
      "\n",
      "        make_Aston Martin  make_Audi  make_BMW  make_Bentley  ...  state_or   \n",
      "62937               False      False     False         False  ...     False  \\\n",
      "417722              False       True     False         False  ...     False   \n",
      "314054              False      False     False         False  ...     False   \n",
      "279187              False      False     False         False  ...     False   \n",
      "237139              False      False     False         False  ...     False   \n",
      "60996               False      False     False         False  ...      True   \n",
      "290764              False      False     False         False  ...     False   \n",
      "356039              False      False     False         False  ...     False   \n",
      "262007              False      False     False         False  ...     False   \n",
      "355578              False      False     False         False  ...     False   \n",
      "\n",
      "        state_pa  state_pr  state_sc  state_tn  state_tx  state_ut  state_va   \n",
      "62937      False     False     False     False     False     False     False  \\\n",
      "417722     False     False     False     False     False     False     False   \n",
      "314054     False     False     False     False     False     False     False   \n",
      "279187     False     False     False     False     False     False     False   \n",
      "237139     False     False     False     False     False     False     False   \n",
      "60996      False     False     False     False     False     False     False   \n",
      "290764     False     False     False     False     False     False     False   \n",
      "356039     False     False     False     False     False     False     False   \n",
      "262007     False     False     False     False     False     False     False   \n",
      "355578     False     False     False      True     False     False     False   \n",
      "\n",
      "        state_wa  state_wi  \n",
      "62937      False     False  \n",
      "417722     False     False  \n",
      "314054     False     False  \n",
      "279187     False     False  \n",
      "237139     False     False  \n",
      "60996      False     False  \n",
      "290764     False     False  \n",
      "356039     False     False  \n",
      "262007     False     False  \n",
      "355578     False     False  \n",
      "\n",
      "[10 rows x 2492 columns]\n"
     ]
    }
   ],
   "source": [
    "print(test_data)"
   ]
  },
  {
   "cell_type": "code",
   "execution_count": 30,
   "metadata": {},
   "outputs": [
    {
     "name": "stdout",
     "output_type": "stream",
     "text": [
      "Predicted selling price: 15664.01, Actual selling price: 16000\n",
      "Predicted selling price: 21304.80, Actual selling price: 19600\n",
      "Predicted selling price: 15047.00, Actual selling price: 13200\n",
      "Predicted selling price: 7812.00, Actual selling price: 8200\n",
      "Predicted selling price: 16044.00, Actual selling price: 17400\n",
      "Predicted selling price: 14051.50, Actual selling price: 14500\n",
      "Predicted selling price: 11625.00, Actual selling price: 13000\n",
      "Predicted selling price: 2647.50, Actual selling price: 3700\n",
      "Predicted selling price: 27500.50, Actual selling price: 28500\n",
      "Predicted selling price: 30209.00, Actual selling price: 33600\n"
     ]
    }
   ],
   "source": [
    "for i in range(len(y_true)):\n",
    "    print(f\"Predicted selling price: {y_pred[i]:.2f}, Actual selling price: {y_true.iloc[i]}\")"
   ]
  }
 ],
 "metadata": {
  "kernelspec": {
   "display_name": "Python 3",
   "language": "python",
   "name": "python3"
  },
  "language_info": {
   "codemirror_mode": {
    "name": "ipython",
    "version": 3
   },
   "file_extension": ".py",
   "mimetype": "text/x-python",
   "name": "python",
   "nbconvert_exporter": "python",
   "pygments_lexer": "ipython3",
   "version": "3.11.3"
  },
  "orig_nbformat": 4
 },
 "nbformat": 4,
 "nbformat_minor": 2
}
