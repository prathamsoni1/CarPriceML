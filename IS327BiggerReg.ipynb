{
 "cells": [
  {
   "cell_type": "code",
   "execution_count": 1,
   "metadata": {},
   "outputs": [],
   "source": [
    "import pandas as pd\n",
    "from sklearn.model_selection import train_test_split\n",
    "from sklearn.linear_model import LinearRegression\n",
    "from sklearn.metrics import mean_squared_error, r2_score"
   ]
  },
  {
   "cell_type": "code",
   "execution_count": 2,
   "metadata": {},
   "outputs": [
    {
     "name": "stdout",
     "output_type": "stream",
     "text": [
      "   year   make   body transmission  condition  odometer  color interior   \n",
      "0  2015    Kia    SUV    automatic        5.0   16639.0  white    black  \\\n",
      "1  2015    Kia    SUV    automatic        5.0    9393.0  white    beige   \n",
      "2  2014    BMW  Sedan    automatic        4.5    1331.0   gray    black   \n",
      "3  2015  Volvo  Sedan    automatic        4.1   14282.0  white    black   \n",
      "4  2014    BMW  Sedan    automatic        4.3    2641.0   gray    black   \n",
      "\n",
      "     mmr  sellingprice  \n",
      "0  20500         21500  \n",
      "1  20800         21500  \n",
      "2  31900         30000  \n",
      "3  27500         27750  \n",
      "4  66000         67000  \n"
     ]
    }
   ],
   "source": [
    "def handle_bad_lines(line):\n",
    "    #print(f\"Skipping bad line: {line}\")\n",
    "    # return None to skip the bad line\n",
    "    return None\n",
    "\n",
    "\n",
    "car_prices= pd.read_csv('car_prices.csv', engine='python', on_bad_lines=handle_bad_lines)\n",
    "car_prices.drop(columns=['vin','saledate','seller','state','model','trim'], inplace=True)\n",
    "print(car_prices.head())"
   ]
  },
  {
   "cell_type": "code",
   "execution_count": 3,
   "metadata": {},
   "outputs": [
    {
     "name": "stdout",
     "output_type": "stream",
     "text": [
      "472419\n"
     ]
    }
   ],
   "source": [
    "car_prices.dropna(inplace=True)\n",
    "print(car_prices.shape[0])"
   ]
  },
  {
   "cell_type": "code",
   "execution_count": 4,
   "metadata": {},
   "outputs": [],
   "source": [
    "car_prices_encoded = pd.get_dummies(car_prices, columns=['make', 'body', 'transmission', 'color', 'interior'], drop_first=True)"
   ]
  },
  {
   "cell_type": "code",
   "execution_count": 5,
   "metadata": {},
   "outputs": [],
   "source": [
    "X = car_prices_encoded.drop('sellingprice', axis=1)\n",
    "y = car_prices_encoded['sellingprice']\n",
    "X_train, X_test, y_train, y_test = train_test_split(X, y, test_size=0.2, random_state=42)"
   ]
  },
  {
   "cell_type": "code",
   "execution_count": 6,
   "metadata": {},
   "outputs": [],
   "source": [
    "lin_reg = LinearRegression()"
   ]
  },
  {
   "cell_type": "code",
   "execution_count": 7,
   "metadata": {},
   "outputs": [
    {
     "data": {
      "text/html": [
       "<style>#sk-container-id-1 {color: black;background-color: white;}#sk-container-id-1 pre{padding: 0;}#sk-container-id-1 div.sk-toggleable {background-color: white;}#sk-container-id-1 label.sk-toggleable__label {cursor: pointer;display: block;width: 100%;margin-bottom: 0;padding: 0.3em;box-sizing: border-box;text-align: center;}#sk-container-id-1 label.sk-toggleable__label-arrow:before {content: \"▸\";float: left;margin-right: 0.25em;color: #696969;}#sk-container-id-1 label.sk-toggleable__label-arrow:hover:before {color: black;}#sk-container-id-1 div.sk-estimator:hover label.sk-toggleable__label-arrow:before {color: black;}#sk-container-id-1 div.sk-toggleable__content {max-height: 0;max-width: 0;overflow: hidden;text-align: left;background-color: #f0f8ff;}#sk-container-id-1 div.sk-toggleable__content pre {margin: 0.2em;color: black;border-radius: 0.25em;background-color: #f0f8ff;}#sk-container-id-1 input.sk-toggleable__control:checked~div.sk-toggleable__content {max-height: 200px;max-width: 100%;overflow: auto;}#sk-container-id-1 input.sk-toggleable__control:checked~label.sk-toggleable__label-arrow:before {content: \"▾\";}#sk-container-id-1 div.sk-estimator input.sk-toggleable__control:checked~label.sk-toggleable__label {background-color: #d4ebff;}#sk-container-id-1 div.sk-label input.sk-toggleable__control:checked~label.sk-toggleable__label {background-color: #d4ebff;}#sk-container-id-1 input.sk-hidden--visually {border: 0;clip: rect(1px 1px 1px 1px);clip: rect(1px, 1px, 1px, 1px);height: 1px;margin: -1px;overflow: hidden;padding: 0;position: absolute;width: 1px;}#sk-container-id-1 div.sk-estimator {font-family: monospace;background-color: #f0f8ff;border: 1px dotted black;border-radius: 0.25em;box-sizing: border-box;margin-bottom: 0.5em;}#sk-container-id-1 div.sk-estimator:hover {background-color: #d4ebff;}#sk-container-id-1 div.sk-parallel-item::after {content: \"\";width: 100%;border-bottom: 1px solid gray;flex-grow: 1;}#sk-container-id-1 div.sk-label:hover label.sk-toggleable__label {background-color: #d4ebff;}#sk-container-id-1 div.sk-serial::before {content: \"\";position: absolute;border-left: 1px solid gray;box-sizing: border-box;top: 0;bottom: 0;left: 50%;z-index: 0;}#sk-container-id-1 div.sk-serial {display: flex;flex-direction: column;align-items: center;background-color: white;padding-right: 0.2em;padding-left: 0.2em;position: relative;}#sk-container-id-1 div.sk-item {position: relative;z-index: 1;}#sk-container-id-1 div.sk-parallel {display: flex;align-items: stretch;justify-content: center;background-color: white;position: relative;}#sk-container-id-1 div.sk-item::before, #sk-container-id-1 div.sk-parallel-item::before {content: \"\";position: absolute;border-left: 1px solid gray;box-sizing: border-box;top: 0;bottom: 0;left: 50%;z-index: -1;}#sk-container-id-1 div.sk-parallel-item {display: flex;flex-direction: column;z-index: 1;position: relative;background-color: white;}#sk-container-id-1 div.sk-parallel-item:first-child::after {align-self: flex-end;width: 50%;}#sk-container-id-1 div.sk-parallel-item:last-child::after {align-self: flex-start;width: 50%;}#sk-container-id-1 div.sk-parallel-item:only-child::after {width: 0;}#sk-container-id-1 div.sk-dashed-wrapped {border: 1px dashed gray;margin: 0 0.4em 0.5em 0.4em;box-sizing: border-box;padding-bottom: 0.4em;background-color: white;}#sk-container-id-1 div.sk-label label {font-family: monospace;font-weight: bold;display: inline-block;line-height: 1.2em;}#sk-container-id-1 div.sk-label-container {text-align: center;}#sk-container-id-1 div.sk-container {/* jupyter's `normalize.less` sets `[hidden] { display: none; }` but bootstrap.min.css set `[hidden] { display: none !important; }` so we also need the `!important` here to be able to override the default hidden behavior on the sphinx rendered scikit-learn.org. See: https://github.com/scikit-learn/scikit-learn/issues/21755 */display: inline-block !important;position: relative;}#sk-container-id-1 div.sk-text-repr-fallback {display: none;}</style><div id=\"sk-container-id-1\" class=\"sk-top-container\"><div class=\"sk-text-repr-fallback\"><pre>LinearRegression()</pre><b>In a Jupyter environment, please rerun this cell to show the HTML representation or trust the notebook. <br />On GitHub, the HTML representation is unable to render, please try loading this page with nbviewer.org.</b></div><div class=\"sk-container\" hidden><div class=\"sk-item\"><div class=\"sk-estimator sk-toggleable\"><input class=\"sk-toggleable__control sk-hidden--visually\" id=\"sk-estimator-id-1\" type=\"checkbox\" checked><label for=\"sk-estimator-id-1\" class=\"sk-toggleable__label sk-toggleable__label-arrow\">LinearRegression</label><div class=\"sk-toggleable__content\"><pre>LinearRegression()</pre></div></div></div></div></div>"
      ],
      "text/plain": [
       "LinearRegression()"
      ]
     },
     "execution_count": 7,
     "metadata": {},
     "output_type": "execute_result"
    }
   ],
   "source": [
    "lin_reg.fit(X_train, y_train)"
   ]
  },
  {
   "cell_type": "code",
   "execution_count": 8,
   "metadata": {},
   "outputs": [
    {
     "name": "stdout",
     "output_type": "stream",
     "text": [
      "Mean Squared Error: 2323280.894261018\n",
      "R-squared: 0.9744840908374447\n"
     ]
    }
   ],
   "source": [
    "y_pred = lin_reg.predict(X_test)\n",
    "mse = mean_squared_error(y_test, y_pred)\n",
    "r2 = r2_score(y_test, y_pred)\n",
    "print(f\"Mean Squared Error: {mse}\")\n",
    "print(f\"R-squared: {r2}\")"
   ]
  },
  {
   "cell_type": "code",
   "execution_count": 9,
   "metadata": {},
   "outputs": [
    {
     "name": "stdout",
     "output_type": "stream",
     "text": [
      "        year  condition  odometer    mmr  sellingprice  make_Aston Martin   \n",
      "246     2013        4.1   29731.0  22100         21000              False  \\\n",
      "267869  2012        4.1   12800.0   9100          8100              False   \n",
      "24267   2014        3.9   29360.0  12600         12500              False   \n",
      "481962  2013        2.9   46950.0   8825          8700              False   \n",
      "20358   2006        2.8  146696.0  14300         10500              False   \n",
      "259852  2006        2.2  131034.0   2000          1900              False   \n",
      "141934  2013        2.0   32019.0  11700          9600              False   \n",
      "351650  2013        4.8   12749.0  13050         12400              False   \n",
      "349308  2012        3.4   54272.0  25200         22600              False   \n",
      "122220  2013        3.2   25705.0   8550          8400              False   \n",
      "\n",
      "        make_Audi  make_BMW  make_Bentley  make_Buick  ...  interior_green   \n",
      "246         False     False         False       False  ...           False  \\\n",
      "267869      False     False         False       False  ...           False   \n",
      "24267       False     False         False       False  ...           False   \n",
      "481962      False     False         False       False  ...           False   \n",
      "20358       False     False         False       False  ...           False   \n",
      "259852      False     False         False       False  ...           False   \n",
      "141934      False     False         False       False  ...           False   \n",
      "351650      False     False         False       False  ...           False   \n",
      "349308      False      True         False       False  ...           False   \n",
      "122220      False     False         False       False  ...           False   \n",
      "\n",
      "        interior_off-white  interior_orange  interior_purple  interior_red   \n",
      "246                  False            False            False         False  \\\n",
      "267869               False            False            False         False   \n",
      "24267                False            False            False         False   \n",
      "481962               False            False            False         False   \n",
      "20358                False            False            False         False   \n",
      "259852               False            False            False         False   \n",
      "141934               False            False            False         False   \n",
      "351650               False            False            False         False   \n",
      "349308               False            False            False         False   \n",
      "122220               False            False            False         False   \n",
      "\n",
      "        interior_silver  interior_tan  interior_white  interior_yellow   \n",
      "246               False         False           False            False  \\\n",
      "267869            False         False           False            False   \n",
      "24267             False         False           False            False   \n",
      "481962            False         False           False            False   \n",
      "20358             False          True           False            False   \n",
      "259852            False         False           False            False   \n",
      "141934            False         False           False            False   \n",
      "351650            False         False           False            False   \n",
      "349308            False         False           False            False   \n",
      "122220            False         False           False            False   \n",
      "\n",
      "        interior_—  \n",
      "246          False  \n",
      "267869       False  \n",
      "24267        False  \n",
      "481962       False  \n",
      "20358        False  \n",
      "259852       False  \n",
      "141934       False  \n",
      "351650       False  \n",
      "349308       False  \n",
      "122220       False  \n",
      "\n",
      "[10 rows x 177 columns]\n"
     ]
    }
   ],
   "source": [
    "test_data = car_prices_encoded.sample(n=10, random_state=100)\n",
    "X_test = test_data.drop('sellingprice',axis=1)\n",
    "y_pred = lin_reg.predict(X_test)\n",
    "y_true=test_data['sellingprice']\n",
    "print(test_data)"
   ]
  },
  {
   "cell_type": "code",
   "execution_count": 14,
   "metadata": {},
   "outputs": [
    {
     "name": "stdout",
     "output_type": "stream",
     "text": [
      "Predicted selling price: 22153.01\n",
      "Actual selling price:    21000\n",
      "Predicted selling price: 9623.92\n",
      "Actual selling price:    8100\n",
      "Predicted selling price: 12393.22\n",
      "Actual selling price:    12500\n",
      "Predicted selling price: 7997.72\n",
      "Actual selling price:    8700\n",
      "Predicted selling price: 13915.01\n",
      "Actual selling price:    10500\n",
      "Predicted selling price: 1377.32\n",
      "Actual selling price:    1900\n",
      "Predicted selling price: 10083.98\n",
      "Actual selling price:    9600\n",
      "Predicted selling price: 13898.08\n",
      "Actual selling price:    12400\n",
      "Predicted selling price: 24447.82\n",
      "Actual selling price:    22600\n",
      "Predicted selling price: 8165.15\n",
      "Actual selling price:    8400\n"
     ]
    }
   ],
   "source": [
    "for i in range(len(y_true)):\n",
    "    print(f\"Predicted selling price: {y_pred[i]:.2f}\")\n",
    "    print(f\"Actual selling price:    {y_true.iloc[i]}\")"
   ]
  }
 ],
 "metadata": {
  "kernelspec": {
   "display_name": "Python 3",
   "language": "python",
   "name": "python3"
  },
  "language_info": {
   "codemirror_mode": {
    "name": "ipython",
    "version": 3
   },
   "file_extension": ".py",
   "mimetype": "text/x-python",
   "name": "python",
   "nbconvert_exporter": "python",
   "pygments_lexer": "ipython3",
   "version": "3.11.3"
  },
  "orig_nbformat": 4
 },
 "nbformat": 4,
 "nbformat_minor": 2
}
