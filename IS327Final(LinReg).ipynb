{
 "cells": [
  {
   "cell_type": "code",
   "execution_count": 2,
   "metadata": {},
   "outputs": [],
   "source": [
    "import pandas as pd\n",
    "from sklearn.model_selection import train_test_split\n",
    "from sklearn.linear_model import LinearRegression\n",
    "from sklearn.metrics import mean_squared_error, r2_score"
   ]
  },
  {
   "cell_type": "code",
   "execution_count": 3,
   "metadata": {},
   "outputs": [
    {
     "name": "stdout",
     "output_type": "stream",
     "text": [
      "   year   make                model        trim   body transmission   \n",
      "0  2015    Kia              Sorento          LX    SUV    automatic  \\\n",
      "1  2015    Kia              Sorento          LX    SUV    automatic   \n",
      "2  2014    BMW             3 Series  328i SULEV  Sedan    automatic   \n",
      "3  2015  Volvo                  S60          T5  Sedan    automatic   \n",
      "4  2014    BMW  6 Series Gran Coupe        650i  Sedan    automatic   \n",
      "\n",
      "   condition  odometer  color interior    mmr  sellingprice  \n",
      "0        5.0   16639.0  white    black  20500         21500  \n",
      "1        5.0    9393.0  white    beige  20800         21500  \n",
      "2        4.5    1331.0   gray    black  31900         30000  \n",
      "3        4.1   14282.0  white    black  27500         27750  \n",
      "4        4.3    2641.0   gray    black  66000         67000  \n"
     ]
    }
   ],
   "source": [
    "def handle_bad_lines(line):\n",
    "    #print(f\"Skipping bad line: {line}\")\n",
    "    # return None to skip the bad line\n",
    "    return None\n",
    "\n",
    "\n",
    "car_prices= pd.read_csv('car_prices.csv', engine='python', on_bad_lines=handle_bad_lines)\n",
    "car_prices.drop(columns=['vin','saledate','seller','state'], inplace=True)\n",
    "print(car_prices.head())"
   ]
  },
  {
   "cell_type": "code",
   "execution_count": 4,
   "metadata": {},
   "outputs": [
    {
     "name": "stdout",
     "output_type": "stream",
     "text": [
      "472331\n"
     ]
    }
   ],
   "source": [
    "car_prices.dropna(inplace=True)\n",
    "print(car_prices.shape[0])"
   ]
  },
  {
   "cell_type": "code",
   "execution_count": 6,
   "metadata": {},
   "outputs": [],
   "source": [
    "car_prices_encoded = pd.get_dummies(car_prices, columns=['make', 'model', 'trim', 'body', 'transmission', 'color', 'interior'], drop_first=True)\n"
   ]
  },
  {
   "cell_type": "code",
   "execution_count": 7,
   "metadata": {},
   "outputs": [],
   "source": [
    "X = car_prices_encoded.drop('sellingprice', axis=1)\n",
    "y = car_prices_encoded['sellingprice']\n",
    "X_train, X_test, y_train, y_test = train_test_split(X, y, test_size=0.2, random_state=42)"
   ]
  },
  {
   "cell_type": "code",
   "execution_count": 8,
   "metadata": {},
   "outputs": [],
   "source": [
    "lin_reg = LinearRegression()\n",
    "lin_reg.fit(X_train, y_train)"
   ]
  }
 ],
 "metadata": {
  "kernelspec": {
   "display_name": "Python 3",
   "language": "python",
   "name": "python3"
  },
  "language_info": {
   "codemirror_mode": {
    "name": "ipython",
    "version": 3
   },
   "file_extension": ".py",
   "mimetype": "text/x-python",
   "name": "python",
   "nbconvert_exporter": "python",
   "pygments_lexer": "ipython3",
   "version": "3.11.3"
  },
  "orig_nbformat": 4
 },
 "nbformat": 4,
 "nbformat_minor": 2
}
