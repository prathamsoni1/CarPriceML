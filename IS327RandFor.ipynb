{
 "cells": [
  {
   "cell_type": "code",
   "execution_count": 3,
   "metadata": {},
   "outputs": [
    {
     "name": "stdout",
     "output_type": "stream",
     "text": [
      "   year   make   body transmission  condition  odometer  color  sellingprice\n",
      "0  2015    Kia    SUV    automatic        5.0   16639.0  white         21500\n",
      "1  2015    Kia    SUV    automatic        5.0    9393.0  white         21500\n",
      "2  2014    BMW  Sedan    automatic        4.5    1331.0   gray         30000\n",
      "3  2015  Volvo  Sedan    automatic        4.1   14282.0  white         27750\n",
      "4  2014    BMW  Sedan    automatic        4.3    2641.0   gray         67000\n"
     ]
    }
   ],
   "source": [
    "import pandas as pd\n",
    "import numpy as np\n",
    "import matplotlib.pyplot as plt\n",
    "import seaborn as sns\n",
    "import csv\n",
    "from sklearn.model_selection import train_test_split\n",
    "from sklearn.preprocessing import StandardScaler\n",
    "from sklearn.ensemble import RandomForestRegressor\n",
    "from sklearn.metrics import mean_squared_error, r2_score\n",
    "from sklearn.model_selection import GridSearchCV\n",
    "from sklearn.impute import SimpleImputer\n",
    "\n",
    "\n",
    "def handle_bad_lines(line):\n",
    "    #print(f\"Skipping bad line: {line}\")\n",
    "    return None\n",
    "\n",
    "\n",
    "car_prices= pd.read_csv('car_prices.csv', engine='python', on_bad_lines=handle_bad_lines)\n",
    "car_prices.drop(columns=['vin','saledate','seller','mmr','trim','model','interior','state'], inplace=True)\n",
    "print(car_prices.head())"
   ]
  },
  {
   "cell_type": "code",
   "execution_count": 4,
   "metadata": {},
   "outputs": [
    {
     "name": "stdout",
     "output_type": "stream",
     "text": [
      "481840\n"
     ]
    }
   ],
   "source": [
    "car_prices.dropna(subset=['make','body','transmission','color'], inplace=True)\n",
    "car_prices['odometer'].fillna(car_prices['odometer'].median(), inplace=True)\n",
    "car_prices['condition'].fillna(car_prices['condition'].median(), inplace=True)\n",
    "print(car_prices.shape[0])"
   ]
  },
  {
   "cell_type": "code",
   "execution_count": 5,
   "metadata": {},
   "outputs": [
    {
     "name": "stdout",
     "output_type": "stream",
     "text": [
      "481779\n"
     ]
    }
   ],
   "source": [
    "car_prices = car_prices[car_prices['sellingprice']<125000]\n",
    "print(car_prices.shape[0])"
   ]
  },
  {
   "cell_type": "code",
   "execution_count": 7,
   "metadata": {},
   "outputs": [
    {
     "name": "stdout",
     "output_type": "stream",
     "text": [
      "Index(['year', 'condition', 'odometer', 'sellingprice', 'make_Acura',\n",
      "       'make_Aston Martin', 'make_Audi', 'make_BMW', 'make_Bentley',\n",
      "       'make_Buick',\n",
      "       ...\n",
      "       'color_off-white', 'color_orange', 'color_pink', 'color_purple',\n",
      "       'color_red', 'color_silver', 'color_turquoise', 'color_white',\n",
      "       'color_yellow', 'color_—'],\n",
      "      dtype='object', length=163)\n"
     ]
    }
   ],
   "source": [
    "car_prices = pd.get_dummies(car_prices, columns=['make','body','transmission','color'],)\n",
    "print(car_prices.columns)"
   ]
  },
  {
   "cell_type": "code",
   "execution_count": 8,
   "metadata": {},
   "outputs": [
    {
     "name": "stdout",
     "output_type": "stream",
     "text": [
      "        year  condition  odometer  make_Acura  make_Aston Martin  make_Audi   \n",
      "422459  2011        1.9   32362.0       False              False      False  \\\n",
      "63800   2011        4.4   33251.0       False              False      False   \n",
      "141966  2013        4.5  100517.0       False              False      False   \n",
      "157168  2013        3.6   54354.0       False              False      False   \n",
      "90567   2009        3.6   42094.0       False              False       True   \n",
      "...      ...        ...       ...         ...                ...        ...   \n",
      "299052  2014        4.8    2566.0       False              False      False   \n",
      "422056  2014        4.3   31018.0       False              False      False   \n",
      "153911  2010        3.5   49467.0       False              False      False   \n",
      "170958  2014        4.6   43276.0       False              False      False   \n",
      "141782  2001        2.0  189679.0       False              False      False   \n",
      "\n",
      "        make_BMW  make_Bentley  make_Buick  make_Cadillac  ...   \n",
      "422459     False         False       False          False  ...  \\\n",
      "63800      False         False       False          False  ...   \n",
      "141966     False         False       False          False  ...   \n",
      "157168     False         False        True          False  ...   \n",
      "90567      False         False       False          False  ...   \n",
      "...          ...           ...         ...            ...  ...   \n",
      "299052     False         False       False          False  ...   \n",
      "422056     False         False       False          False  ...   \n",
      "153911     False         False       False          False  ...   \n",
      "170958     False         False       False          False  ...   \n",
      "141782     False         False       False          False  ...   \n",
      "\n",
      "        color_off-white  color_orange  color_pink  color_purple  color_red   \n",
      "422459            False         False       False         False      False  \\\n",
      "63800             False         False       False         False      False   \n",
      "141966            False         False       False         False      False   \n",
      "157168            False         False       False         False      False   \n",
      "90567             False         False       False         False      False   \n",
      "...                 ...           ...         ...           ...        ...   \n",
      "299052            False         False       False         False      False   \n",
      "422056            False         False       False         False      False   \n",
      "153911            False         False       False         False      False   \n",
      "170958            False         False       False         False      False   \n",
      "141782            False         False       False         False      False   \n",
      "\n",
      "        color_silver  color_turquoise  color_white  color_yellow  color_—  \n",
      "422459         False            False        False         False    False  \n",
      "63800          False            False        False         False    False  \n",
      "141966         False            False         True         False    False  \n",
      "157168         False            False        False         False    False  \n",
      "90567          False            False        False         False    False  \n",
      "...              ...              ...          ...           ...      ...  \n",
      "299052         False            False        False         False    False  \n",
      "422056         False            False         True         False    False  \n",
      "153911         False            False        False         False    False  \n",
      "170958         False            False        False         False    False  \n",
      "141782         False            False         True         False    False  \n",
      "\n",
      "[385423 rows x 162 columns]         year  condition  odometer  make_Acura  make_Aston Martin  make_Audi   \n",
      "518706  2004        1.9  211876.0       False              False      False  \\\n",
      "255274  2014        4.4    9095.0       False              False      False   \n",
      "412479  2007        1.9   79643.0       False              False      False   \n",
      "371183  2010        3.9  157242.0       False              False      False   \n",
      "304888  2003        2.6  152506.0       False              False      False   \n",
      "...      ...        ...       ...         ...                ...        ...   \n",
      "242860  2011        2.2   59542.0       False              False      False   \n",
      "208992  2013        3.3   22910.0       False              False      False   \n",
      "520437  2015        3.1   11952.0       False              False      False   \n",
      "467969  2015        4.0   25774.0       False              False      False   \n",
      "513624  2014        4.7   23589.0       False              False      False   \n",
      "\n",
      "        make_BMW  make_Bentley  make_Buick  make_Cadillac  ...   \n",
      "518706     False         False       False          False  ...  \\\n",
      "255274     False         False       False          False  ...   \n",
      "412479     False         False       False          False  ...   \n",
      "371183     False         False       False          False  ...   \n",
      "304888     False         False       False          False  ...   \n",
      "...          ...           ...         ...            ...  ...   \n",
      "242860     False         False        True          False  ...   \n",
      "208992     False         False       False          False  ...   \n",
      "520437     False         False       False          False  ...   \n",
      "467969     False         False       False          False  ...   \n",
      "513624     False         False       False          False  ...   \n",
      "\n",
      "        color_off-white  color_orange  color_pink  color_purple  color_red   \n",
      "518706            False         False       False         False      False  \\\n",
      "255274            False         False       False         False      False   \n",
      "412479            False         False       False         False      False   \n",
      "371183            False         False       False         False      False   \n",
      "304888            False         False       False         False      False   \n",
      "...                 ...           ...         ...           ...        ...   \n",
      "242860            False         False       False         False      False   \n",
      "208992            False         False       False         False      False   \n",
      "520437            False         False       False         False      False   \n",
      "467969            False         False       False         False       True   \n",
      "513624            False         False       False         False       True   \n",
      "\n",
      "        color_silver  color_turquoise  color_white  color_yellow  color_—  \n",
      "518706         False            False        False         False    False  \n",
      "255274         False            False        False         False    False  \n",
      "412479         False            False         True         False    False  \n",
      "371183         False            False        False         False    False  \n",
      "304888          True            False        False         False    False  \n",
      "...              ...              ...          ...           ...      ...  \n",
      "242860         False            False        False         False    False  \n",
      "208992         False            False        False         False    False  \n",
      "520437         False            False        False         False    False  \n",
      "467969         False            False        False         False    False  \n",
      "513624         False            False        False         False    False  \n",
      "\n",
      "[96356 rows x 162 columns] 422459    11900\n",
      "63800     17250\n",
      "141966    11300\n",
      "157168    14500\n",
      "90567     23300\n",
      "          ...  \n",
      "299052    18200\n",
      "422056    11400\n",
      "153911    33100\n",
      "170958     9900\n",
      "141782     3200\n",
      "Name: sellingprice, Length: 385423, dtype: int64 518706      800\n",
      "255274    18300\n",
      "412479     5400\n",
      "371183     9300\n",
      "304888     2500\n",
      "          ...  \n",
      "242860     9000\n",
      "208992    23750\n",
      "520437    21500\n",
      "467969    21250\n",
      "513624    16300\n",
      "Name: sellingprice, Length: 96356, dtype: int64\n"
     ]
    }
   ],
   "source": [
    "X = car_prices.drop(columns=['sellingprice'])\n",
    "y = car_prices['sellingprice']\n",
    "X_train, X_test, y_train, y_test = train_test_split(X,y,test_size=0.2, random_state=42)\n",
    "print(X_train, X_test, y_train, y_test)"
   ]
  },
  {
   "cell_type": "code",
   "execution_count": 9,
   "metadata": {},
   "outputs": [],
   "source": [
    "scaler = StandardScaler()\n",
    "X_train[['year','condition','odometer']]=scaler.fit_transform(X_train[['year','condition','odometer']])\n",
    "X_test[['year','condition','odometer']]=scaler.transform(X_test[['year','condition','odometer']])\n",
    "imputer = SimpleImputer(strategy='most_frequent')"
   ]
  },
  {
   "cell_type": "code",
   "execution_count": 10,
   "metadata": {},
   "outputs": [],
   "source": [
    "X_train = imputer.fit_transform(X_train)"
   ]
  },
  {
   "cell_type": "code",
   "execution_count": 11,
   "metadata": {},
   "outputs": [
    {
     "name": "stdout",
     "output_type": "stream",
     "text": [
      "481779\n",
      "None\n"
     ]
    }
   ],
   "source": [
    "print(car_prices.shape[0])\n",
    "new_cars = car_prices.dropna(inplace=True)\n",
    "print(new_cars)"
   ]
  },
  {
   "cell_type": "code",
   "execution_count": 12,
   "metadata": {},
   "outputs": [
    {
     "data": {
      "text/html": [
       "<style>#sk-container-id-1 {color: black;background-color: white;}#sk-container-id-1 pre{padding: 0;}#sk-container-id-1 div.sk-toggleable {background-color: white;}#sk-container-id-1 label.sk-toggleable__label {cursor: pointer;display: block;width: 100%;margin-bottom: 0;padding: 0.3em;box-sizing: border-box;text-align: center;}#sk-container-id-1 label.sk-toggleable__label-arrow:before {content: \"▸\";float: left;margin-right: 0.25em;color: #696969;}#sk-container-id-1 label.sk-toggleable__label-arrow:hover:before {color: black;}#sk-container-id-1 div.sk-estimator:hover label.sk-toggleable__label-arrow:before {color: black;}#sk-container-id-1 div.sk-toggleable__content {max-height: 0;max-width: 0;overflow: hidden;text-align: left;background-color: #f0f8ff;}#sk-container-id-1 div.sk-toggleable__content pre {margin: 0.2em;color: black;border-radius: 0.25em;background-color: #f0f8ff;}#sk-container-id-1 input.sk-toggleable__control:checked~div.sk-toggleable__content {max-height: 200px;max-width: 100%;overflow: auto;}#sk-container-id-1 input.sk-toggleable__control:checked~label.sk-toggleable__label-arrow:before {content: \"▾\";}#sk-container-id-1 div.sk-estimator input.sk-toggleable__control:checked~label.sk-toggleable__label {background-color: #d4ebff;}#sk-container-id-1 div.sk-label input.sk-toggleable__control:checked~label.sk-toggleable__label {background-color: #d4ebff;}#sk-container-id-1 input.sk-hidden--visually {border: 0;clip: rect(1px 1px 1px 1px);clip: rect(1px, 1px, 1px, 1px);height: 1px;margin: -1px;overflow: hidden;padding: 0;position: absolute;width: 1px;}#sk-container-id-1 div.sk-estimator {font-family: monospace;background-color: #f0f8ff;border: 1px dotted black;border-radius: 0.25em;box-sizing: border-box;margin-bottom: 0.5em;}#sk-container-id-1 div.sk-estimator:hover {background-color: #d4ebff;}#sk-container-id-1 div.sk-parallel-item::after {content: \"\";width: 100%;border-bottom: 1px solid gray;flex-grow: 1;}#sk-container-id-1 div.sk-label:hover label.sk-toggleable__label {background-color: #d4ebff;}#sk-container-id-1 div.sk-serial::before {content: \"\";position: absolute;border-left: 1px solid gray;box-sizing: border-box;top: 0;bottom: 0;left: 50%;z-index: 0;}#sk-container-id-1 div.sk-serial {display: flex;flex-direction: column;align-items: center;background-color: white;padding-right: 0.2em;padding-left: 0.2em;position: relative;}#sk-container-id-1 div.sk-item {position: relative;z-index: 1;}#sk-container-id-1 div.sk-parallel {display: flex;align-items: stretch;justify-content: center;background-color: white;position: relative;}#sk-container-id-1 div.sk-item::before, #sk-container-id-1 div.sk-parallel-item::before {content: \"\";position: absolute;border-left: 1px solid gray;box-sizing: border-box;top: 0;bottom: 0;left: 50%;z-index: -1;}#sk-container-id-1 div.sk-parallel-item {display: flex;flex-direction: column;z-index: 1;position: relative;background-color: white;}#sk-container-id-1 div.sk-parallel-item:first-child::after {align-self: flex-end;width: 50%;}#sk-container-id-1 div.sk-parallel-item:last-child::after {align-self: flex-start;width: 50%;}#sk-container-id-1 div.sk-parallel-item:only-child::after {width: 0;}#sk-container-id-1 div.sk-dashed-wrapped {border: 1px dashed gray;margin: 0 0.4em 0.5em 0.4em;box-sizing: border-box;padding-bottom: 0.4em;background-color: white;}#sk-container-id-1 div.sk-label label {font-family: monospace;font-weight: bold;display: inline-block;line-height: 1.2em;}#sk-container-id-1 div.sk-label-container {text-align: center;}#sk-container-id-1 div.sk-container {/* jupyter's `normalize.less` sets `[hidden] { display: none; }` but bootstrap.min.css set `[hidden] { display: none !important; }` so we also need the `!important` here to be able to override the default hidden behavior on the sphinx rendered scikit-learn.org. See: https://github.com/scikit-learn/scikit-learn/issues/21755 */display: inline-block !important;position: relative;}#sk-container-id-1 div.sk-text-repr-fallback {display: none;}</style><div id=\"sk-container-id-1\" class=\"sk-top-container\"><div class=\"sk-text-repr-fallback\"><pre>RandomForestRegressor(random_state=42)</pre><b>In a Jupyter environment, please rerun this cell to show the HTML representation or trust the notebook. <br />On GitHub, the HTML representation is unable to render, please try loading this page with nbviewer.org.</b></div><div class=\"sk-container\" hidden><div class=\"sk-item\"><div class=\"sk-estimator sk-toggleable\"><input class=\"sk-toggleable__control sk-hidden--visually\" id=\"sk-estimator-id-1\" type=\"checkbox\" checked><label for=\"sk-estimator-id-1\" class=\"sk-toggleable__label sk-toggleable__label-arrow\">RandomForestRegressor</label><div class=\"sk-toggleable__content\"><pre>RandomForestRegressor(random_state=42)</pre></div></div></div></div></div>"
      ],
      "text/plain": [
       "RandomForestRegressor(random_state=42)"
      ]
     },
     "execution_count": 12,
     "metadata": {},
     "output_type": "execute_result"
    }
   ],
   "source": [
    "rf = RandomForestRegressor(random_state=42)\n",
    "rf.fit(X_train, y_train)"
   ]
  },
  {
   "cell_type": "code",
   "execution_count": 13,
   "metadata": {},
   "outputs": [
    {
     "name": "stderr",
     "output_type": "stream",
     "text": [
      "/Library/Frameworks/Python.framework/Versions/3.11/lib/python3.11/site-packages/sklearn/base.py:432: UserWarning: X has feature names, but RandomForestRegressor was fitted without feature names\n",
      "  warnings.warn(\n"
     ]
    }
   ],
   "source": [
    "y_pred_train = rf.predict(X_train)\n",
    "y_pred_test = rf.predict(X_test)\n",
    "mse_train = mean_squared_error(y_train,y_pred_train)\n",
    "mse_test = mean_squared_error(y_test,y_pred_test)"
   ]
  },
  {
   "cell_type": "code",
   "execution_count": 14,
   "metadata": {},
   "outputs": [],
   "source": [
    "r2_train = r2_score(y_train,y_pred_train)\n",
    "r2_test = r2_score(y_test, y_pred_test)"
   ]
  },
  {
   "cell_type": "code",
   "execution_count": 15,
   "metadata": {},
   "outputs": [
    {
     "name": "stdout",
     "output_type": "stream",
     "text": [
      "Training set MSE:  2337355.674909992\n",
      "Testing set MSE:  16307744.385474788\n",
      "Training set R-squared score: 0.9742849251802634\n",
      "Testing set R-squared score:  0.8181051089182547\n"
     ]
    }
   ],
   "source": [
    "print(\"Training set MSE: \", mse_train)\n",
    "print(\"Testing set MSE: \", mse_test)\n",
    "print(\"Training set R-squared score:\", r2_train)\n",
    "print(\"Testing set R-squared score: \", r2_test)"
   ]
  },
  {
   "cell_type": "code",
   "execution_count": 26,
   "metadata": {},
   "outputs": [
    {
     "name": "stderr",
     "output_type": "stream",
     "text": [
      "/Library/Frameworks/Python.framework/Versions/3.11/lib/python3.11/site-packages/sklearn/base.py:432: UserWarning: X has feature names, but RandomForestRegressor was fitted without feature names\n",
      "  warnings.warn(\n"
     ]
    }
   ],
   "source": [
    "test_data = car_prices.sample(n=10, random_state=2)\n",
    "X_test = test_data.drop('sellingprice',axis=1)\n",
    "y_pred = rf.predict(X_test)\n",
    "y_true=test_data['sellingprice']"
   ]
  },
  {
   "cell_type": "code",
   "execution_count": null,
   "metadata": {},
   "outputs": [],
   "source": []
  },
  {
   "cell_type": "code",
   "execution_count": 27,
   "metadata": {},
   "outputs": [
    {
     "name": "stdout",
     "output_type": "stream",
     "text": [
      "Predicted selling price: 17199.00, Actual selling price: 29200\n",
      "Predicted selling price: 10480.10, Actual selling price: 17800\n",
      "Predicted selling price: 9809.50, Actual selling price: 2600\n",
      "Predicted selling price: 9843.00, Actual selling price: 26900\n",
      "Predicted selling price: 10195.00, Actual selling price: 300\n",
      "Predicted selling price: 13864.50, Actual selling price: 17600\n",
      "Predicted selling price: 10814.50, Actual selling price: 1400\n",
      "Predicted selling price: 11140.50, Actual selling price: 19600\n",
      "Predicted selling price: 11552.00, Actual selling price: 7000\n",
      "Predicted selling price: 9977.00, Actual selling price: 14000\n"
     ]
    }
   ],
   "source": [
    "for i in range(len(y_true)):\n",
    "    print(f\"Predicted selling price: {y_pred[i]:.2f}, Actual selling price: {y_true.iloc[i]}\")"
   ]
  },
  {
   "cell_type": "code",
   "execution_count": 28,
   "metadata": {},
   "outputs": [
    {
     "name": "stdout",
     "output_type": "stream",
     "text": [
      "Fitting 3 folds for each of 108 candidates, totalling 324 fits\n",
      "[CV] END max_depth=5, min_samples_leaf=1, min_samples_split=2, n_estimators=50; total time= 2.9min\n",
      "[CV] END max_depth=5, min_samples_leaf=1, min_samples_split=2, n_estimators=50; total time= 2.9min\n",
      "[CV] END max_depth=5, min_samples_leaf=1, min_samples_split=2, n_estimators=50; total time= 2.9min\n",
      "[CV] END max_depth=5, min_samples_leaf=1, min_samples_split=2, n_estimators=100; total time= 5.5min\n",
      "[CV] END max_depth=5, min_samples_leaf=1, min_samples_split=2, n_estimators=100; total time= 5.5min\n",
      "[CV] END max_depth=5, min_samples_leaf=1, min_samples_split=2, n_estimators=100; total time= 5.5min\n",
      "[CV] END max_depth=5, min_samples_leaf=1, min_samples_split=5, n_estimators=50; total time= 2.6min\n",
      "[CV] END max_depth=5, min_samples_leaf=1, min_samples_split=5, n_estimators=50; total time= 2.7min\n",
      "[CV] END max_depth=5, min_samples_leaf=1, min_samples_split=2, n_estimators=150; total time= 8.0min\n",
      "[CV] END max_depth=5, min_samples_leaf=1, min_samples_split=5, n_estimators=50; total time= 2.5min\n",
      "[CV] END max_depth=5, min_samples_leaf=1, min_samples_split=2, n_estimators=150; total time= 8.1min\n",
      "[CV] END max_depth=5, min_samples_leaf=1, min_samples_split=10, n_estimators=50; total time= 3.6min\n",
      "[CV] END max_depth=5, min_samples_leaf=1, min_samples_split=5, n_estimators=100; total time= 6.2min\n",
      "[CV] END max_depth=5, min_samples_leaf=1, min_samples_split=5, n_estimators=100; total time= 6.2min\n",
      "[CV] END max_depth=5, min_samples_leaf=1, min_samples_split=5, n_estimators=100; total time= 6.3min\n",
      "[CV] END max_depth=5, min_samples_leaf=1, min_samples_split=2, n_estimators=150; total time= 8.9min\n",
      "[CV] END max_depth=5, min_samples_leaf=1, min_samples_split=5, n_estimators=150; total time=46.7min\n",
      "[CV] END max_depth=5, min_samples_leaf=1, min_samples_split=10, n_estimators=50; total time=40.5min\n",
      "[CV] END max_depth=5, min_samples_leaf=1, min_samples_split=10, n_estimators=50; total time=40.6min\n",
      "[CV] END max_depth=5, min_samples_leaf=1, min_samples_split=5, n_estimators=150; total time=46.7min\n",
      "[CV] END max_depth=5, min_samples_leaf=1, min_samples_split=5, n_estimators=150; total time=46.7min\n",
      "[CV] END max_depth=5, min_samples_leaf=1, min_samples_split=10, n_estimators=100; total time=43.1min\n",
      "[CV] END max_depth=5, min_samples_leaf=1, min_samples_split=10, n_estimators=100; total time=43.1min\n",
      "[CV] END max_depth=5, min_samples_leaf=1, min_samples_split=10, n_estimators=100; total time=43.1min\n",
      "[CV] END max_depth=5, min_samples_leaf=2, min_samples_split=2, n_estimators=50; total time= 2.8min\n",
      "[CV] END max_depth=5, min_samples_leaf=2, min_samples_split=2, n_estimators=50; total time= 2.8min\n",
      "[CV] END max_depth=5, min_samples_leaf=2, min_samples_split=2, n_estimators=50; total time= 2.9min\n",
      "[CV] END max_depth=5, min_samples_leaf=1, min_samples_split=10, n_estimators=150; total time= 8.1min\n",
      "[CV] END max_depth=5, min_samples_leaf=1, min_samples_split=10, n_estimators=150; total time= 8.2min\n",
      "[CV] END max_depth=5, min_samples_leaf=1, min_samples_split=10, n_estimators=150; total time= 8.1min\n",
      "[CV] END max_depth=5, min_samples_leaf=2, min_samples_split=2, n_estimators=100; total time= 5.5min\n",
      "[CV] END max_depth=5, min_samples_leaf=2, min_samples_split=2, n_estimators=100; total time= 5.5min\n",
      "[CV] END max_depth=5, min_samples_leaf=2, min_samples_split=2, n_estimators=100; total time= 5.5min\n",
      "[CV] END max_depth=5, min_samples_leaf=2, min_samples_split=5, n_estimators=50; total time= 2.8min\n",
      "[CV] END max_depth=5, min_samples_leaf=2, min_samples_split=5, n_estimators=50; total time= 2.8min\n",
      "[CV] END max_depth=5, min_samples_leaf=2, min_samples_split=5, n_estimators=50; total time= 2.8min\n",
      "[CV] END max_depth=5, min_samples_leaf=2, min_samples_split=2, n_estimators=150; total time= 8.2min\n",
      "[CV] END max_depth=5, min_samples_leaf=2, min_samples_split=2, n_estimators=150; total time= 8.2min\n",
      "[CV] END max_depth=5, min_samples_leaf=2, min_samples_split=5, n_estimators=100; total time= 5.5min\n",
      "[CV] END max_depth=5, min_samples_leaf=2, min_samples_split=2, n_estimators=150; total time= 8.2min\n",
      "[CV] END max_depth=5, min_samples_leaf=2, min_samples_split=5, n_estimators=100; total time= 5.6min\n",
      "[CV] END max_depth=5, min_samples_leaf=2, min_samples_split=5, n_estimators=100; total time= 5.5min\n",
      "[CV] END max_depth=5, min_samples_leaf=2, min_samples_split=10, n_estimators=50; total time= 2.8min\n",
      "[CV] END max_depth=5, min_samples_leaf=2, min_samples_split=10, n_estimators=50; total time= 2.8min\n",
      "[CV] END max_depth=5, min_samples_leaf=2, min_samples_split=5, n_estimators=150; total time= 8.2min\n",
      "[CV] END max_depth=5, min_samples_leaf=2, min_samples_split=10, n_estimators=50; total time= 2.8min\n",
      "[CV] END max_depth=5, min_samples_leaf=2, min_samples_split=5, n_estimators=150; total time= 8.2min\n",
      "[CV] END max_depth=5, min_samples_leaf=2, min_samples_split=5, n_estimators=150; total time= 8.3min\n",
      "[CV] END max_depth=5, min_samples_leaf=2, min_samples_split=10, n_estimators=100; total time= 5.5min\n",
      "[CV] END max_depth=5, min_samples_leaf=4, min_samples_split=2, n_estimators=50; total time= 2.8min\n",
      "[CV] END max_depth=5, min_samples_leaf=2, min_samples_split=10, n_estimators=100; total time= 5.5min\n",
      "[CV] END max_depth=5, min_samples_leaf=2, min_samples_split=10, n_estimators=100; total time= 5.5min\n",
      "[CV] END max_depth=5, min_samples_leaf=4, min_samples_split=2, n_estimators=50; total time= 3.0min\n",
      "[CV] END max_depth=5, min_samples_leaf=2, min_samples_split=10, n_estimators=150; total time= 8.4min\n",
      "[CV] END max_depth=5, min_samples_leaf=4, min_samples_split=2, n_estimators=50; total time= 3.0min\n",
      "[CV] END max_depth=5, min_samples_leaf=2, min_samples_split=10, n_estimators=150; total time= 8.3min\n",
      "[CV] END max_depth=5, min_samples_leaf=2, min_samples_split=10, n_estimators=150; total time= 8.3min\n",
      "[CV] END max_depth=5, min_samples_leaf=4, min_samples_split=2, n_estimators=100; total time= 5.6min\n",
      "[CV] END max_depth=5, min_samples_leaf=4, min_samples_split=2, n_estimators=100; total time= 5.6min\n",
      "[CV] END max_depth=5, min_samples_leaf=4, min_samples_split=2, n_estimators=100; total time= 5.6min\n",
      "[CV] END max_depth=5, min_samples_leaf=4, min_samples_split=5, n_estimators=50; total time= 2.7min\n",
      "[CV] END max_depth=5, min_samples_leaf=4, min_samples_split=5, n_estimators=50; total time= 2.7min\n",
      "[CV] END max_depth=5, min_samples_leaf=4, min_samples_split=5, n_estimators=50; total time= 2.8min\n",
      "[CV] END max_depth=5, min_samples_leaf=4, min_samples_split=2, n_estimators=150; total time= 8.1min\n",
      "[CV] END max_depth=5, min_samples_leaf=4, min_samples_split=2, n_estimators=150; total time= 8.1min\n",
      "[CV] END max_depth=5, min_samples_leaf=4, min_samples_split=5, n_estimators=100; total time= 5.5min\n",
      "[CV] END max_depth=5, min_samples_leaf=4, min_samples_split=5, n_estimators=100; total time= 5.5min\n",
      "[CV] END max_depth=5, min_samples_leaf=4, min_samples_split=2, n_estimators=150; total time= 8.1min\n",
      "[CV] END max_depth=5, min_samples_leaf=4, min_samples_split=10, n_estimators=50; total time= 7.9min\n",
      "[CV] END max_depth=5, min_samples_leaf=4, min_samples_split=10, n_estimators=50; total time= 7.9min\n",
      "[CV] END max_depth=5, min_samples_leaf=4, min_samples_split=10, n_estimators=50; total time= 7.9min\n",
      "[CV] END max_depth=5, min_samples_leaf=4, min_samples_split=5, n_estimators=100; total time=10.7min\n",
      "[CV] END max_depth=5, min_samples_leaf=4, min_samples_split=10, n_estimators=100; total time=10.7min\n",
      "[CV] END max_depth=5, min_samples_leaf=4, min_samples_split=5, n_estimators=150; total time=13.6min\n",
      "[CV] END max_depth=5, min_samples_leaf=4, min_samples_split=5, n_estimators=150; total time=13.6min\n",
      "[CV] END max_depth=5, min_samples_leaf=4, min_samples_split=5, n_estimators=150; total time=13.3min\n",
      "[CV] END max_depth=5, min_samples_leaf=4, min_samples_split=10, n_estimators=100; total time= 5.4min\n",
      "[CV] END max_depth=5, min_samples_leaf=4, min_samples_split=10, n_estimators=100; total time= 5.5min\n",
      "[CV] END max_depth=10, min_samples_leaf=1, min_samples_split=2, n_estimators=50; total time= 3.8min\n",
      "[CV] END max_depth=10, min_samples_leaf=1, min_samples_split=2, n_estimators=50; total time= 3.9min\n",
      "[CV] END max_depth=5, min_samples_leaf=4, min_samples_split=10, n_estimators=150; total time= 7.9min\n",
      "[CV] END max_depth=5, min_samples_leaf=4, min_samples_split=10, n_estimators=150; total time= 7.9min\n",
      "[CV] END max_depth=10, min_samples_leaf=1, min_samples_split=2, n_estimators=50; total time= 3.7min\n",
      "[CV] END max_depth=5, min_samples_leaf=4, min_samples_split=10, n_estimators=150; total time= 7.5min\n",
      "[CV] END max_depth=10, min_samples_leaf=1, min_samples_split=5, n_estimators=50; total time= 3.5min\n",
      "[CV] END max_depth=10, min_samples_leaf=1, min_samples_split=2, n_estimators=100; total time= 7.2min\n",
      "[CV] END max_depth=10, min_samples_leaf=1, min_samples_split=2, n_estimators=100; total time= 7.2min\n",
      "[CV] END max_depth=10, min_samples_leaf=1, min_samples_split=5, n_estimators=50; total time= 3.6min\n",
      "[CV] END max_depth=10, min_samples_leaf=1, min_samples_split=2, n_estimators=100; total time= 7.2min\n",
      "[CV] END max_depth=10, min_samples_leaf=1, min_samples_split=5, n_estimators=50; total time= 3.6min\n",
      "[CV] END max_depth=10, min_samples_leaf=1, min_samples_split=2, n_estimators=150; total time=10.8min\n",
      "[CV] END max_depth=10, min_samples_leaf=1, min_samples_split=2, n_estimators=150; total time=10.8min\n",
      "[CV] END max_depth=10, min_samples_leaf=1, min_samples_split=2, n_estimators=150; total time=10.8min\n",
      "[CV] END max_depth=10, min_samples_leaf=1, min_samples_split=5, n_estimators=100; total time= 7.4min\n",
      "[CV] END max_depth=10, min_samples_leaf=1, min_samples_split=5, n_estimators=100; total time= 7.4min\n",
      "[CV] END max_depth=10, min_samples_leaf=1, min_samples_split=5, n_estimators=100; total time= 7.4min\n",
      "[CV] END max_depth=10, min_samples_leaf=1, min_samples_split=10, n_estimators=50; total time= 3.7min\n",
      "[CV] END max_depth=10, min_samples_leaf=1, min_samples_split=10, n_estimators=50; total time= 3.7min\n",
      "[CV] END max_depth=10, min_samples_leaf=1, min_samples_split=10, n_estimators=50; total time= 3.6min\n",
      "[CV] END max_depth=10, min_samples_leaf=1, min_samples_split=5, n_estimators=150; total time=10.9min\n",
      "[CV] END max_depth=10, min_samples_leaf=1, min_samples_split=5, n_estimators=150; total time=10.8min\n",
      "[CV] END max_depth=10, min_samples_leaf=1, min_samples_split=10, n_estimators=100; total time= 7.1min\n",
      "[CV] END max_depth=10, min_samples_leaf=1, min_samples_split=10, n_estimators=100; total time= 7.0min\n",
      "[CV] END max_depth=10, min_samples_leaf=1, min_samples_split=5, n_estimators=150; total time=10.9min\n",
      "[CV] END max_depth=10, min_samples_leaf=1, min_samples_split=10, n_estimators=100; total time= 7.0min\n",
      "[CV] END max_depth=10, min_samples_leaf=2, min_samples_split=2, n_estimators=50; total time= 3.7min\n",
      "[CV] END max_depth=10, min_samples_leaf=2, min_samples_split=2, n_estimators=50; total time= 3.7min\n",
      "[CV] END max_depth=10, min_samples_leaf=2, min_samples_split=2, n_estimators=50; total time= 3.7min\n",
      "[CV] END max_depth=10, min_samples_leaf=1, min_samples_split=10, n_estimators=150; total time=10.6min\n",
      "[CV] END max_depth=10, min_samples_leaf=1, min_samples_split=10, n_estimators=150; total time=10.9min\n",
      "[CV] END max_depth=10, min_samples_leaf=1, min_samples_split=10, n_estimators=150; total time=11.1min\n",
      "[CV] END max_depth=10, min_samples_leaf=2, min_samples_split=2, n_estimators=100; total time= 7.7min\n",
      "[CV] END max_depth=10, min_samples_leaf=2, min_samples_split=2, n_estimators=100; total time= 8.0min\n",
      "[CV] END max_depth=10, min_samples_leaf=2, min_samples_split=2, n_estimators=100; total time= 8.1min\n",
      "[CV] END max_depth=10, min_samples_leaf=2, min_samples_split=5, n_estimators=50; total time= 4.5min\n",
      "[CV] END max_depth=10, min_samples_leaf=2, min_samples_split=5, n_estimators=50; total time= 4.4min\n",
      "[CV] END max_depth=10, min_samples_leaf=2, min_samples_split=5, n_estimators=50; total time= 4.3min\n",
      "[CV] END max_depth=10, min_samples_leaf=2, min_samples_split=2, n_estimators=150; total time=33.7min\n",
      "[CV] END max_depth=10, min_samples_leaf=2, min_samples_split=2, n_estimators=150; total time=33.9min\n",
      "[CV] END max_depth=10, min_samples_leaf=2, min_samples_split=2, n_estimators=150; total time=34.4min\n",
      "[CV] END max_depth=10, min_samples_leaf=2, min_samples_split=5, n_estimators=100; total time=30.1min\n",
      "[CV] END max_depth=10, min_samples_leaf=2, min_samples_split=5, n_estimators=100; total time=29.9min\n",
      "[CV] END max_depth=10, min_samples_leaf=2, min_samples_split=5, n_estimators=100; total time=29.9min\n",
      "[CV] END max_depth=10, min_samples_leaf=2, min_samples_split=10, n_estimators=50; total time= 4.2min\n",
      "[CV] END max_depth=10, min_samples_leaf=2, min_samples_split=10, n_estimators=50; total time= 3.9min\n",
      "[CV] END max_depth=10, min_samples_leaf=2, min_samples_split=10, n_estimators=50; total time= 3.8min\n",
      "[CV] END max_depth=10, min_samples_leaf=2, min_samples_split=5, n_estimators=150; total time=33.5min\n",
      "[CV] END max_depth=10, min_samples_leaf=2, min_samples_split=5, n_estimators=150; total time=33.5min\n",
      "[CV] END max_depth=10, min_samples_leaf=2, min_samples_split=10, n_estimators=100; total time= 7.7min\n",
      "[CV] END max_depth=10, min_samples_leaf=2, min_samples_split=5, n_estimators=150; total time=12.1min\n",
      "[CV] END max_depth=10, min_samples_leaf=2, min_samples_split=10, n_estimators=100; total time= 7.8min\n",
      "[CV] END max_depth=10, min_samples_leaf=2, min_samples_split=10, n_estimators=100; total time= 7.7min\n",
      "[CV] END max_depth=10, min_samples_leaf=4, min_samples_split=2, n_estimators=50; total time= 3.9min\n",
      "[CV] END max_depth=10, min_samples_leaf=4, min_samples_split=2, n_estimators=50; total time= 3.5min\n",
      "[CV] END max_depth=10, min_samples_leaf=4, min_samples_split=2, n_estimators=50; total time= 3.5min\n",
      "[CV] END max_depth=10, min_samples_leaf=2, min_samples_split=10, n_estimators=150; total time=11.0min\n",
      "[CV] END max_depth=10, min_samples_leaf=2, min_samples_split=10, n_estimators=150; total time=11.0min\n",
      "[CV] END max_depth=10, min_samples_leaf=4, min_samples_split=2, n_estimators=100; total time= 6.9min\n",
      "[CV] END max_depth=10, min_samples_leaf=2, min_samples_split=10, n_estimators=150; total time=10.9min\n",
      "[CV] END max_depth=10, min_samples_leaf=4, min_samples_split=2, n_estimators=100; total time= 7.0min\n",
      "[CV] END max_depth=10, min_samples_leaf=4, min_samples_split=2, n_estimators=100; total time= 7.0min\n",
      "[CV] END max_depth=10, min_samples_leaf=4, min_samples_split=5, n_estimators=50; total time= 3.6min\n",
      "[CV] END max_depth=10, min_samples_leaf=4, min_samples_split=5, n_estimators=50; total time= 3.6min\n",
      "[CV] END max_depth=10, min_samples_leaf=4, min_samples_split=5, n_estimators=50; total time= 3.5min\n",
      "[CV] END max_depth=10, min_samples_leaf=4, min_samples_split=2, n_estimators=150; total time=10.5min\n",
      "[CV] END max_depth=10, min_samples_leaf=4, min_samples_split=2, n_estimators=150; total time=10.5min\n",
      "[CV] END max_depth=10, min_samples_leaf=4, min_samples_split=5, n_estimators=100; total time= 6.9min\n",
      "[CV] END max_depth=10, min_samples_leaf=4, min_samples_split=5, n_estimators=100; total time= 7.0min\n",
      "[CV] END max_depth=10, min_samples_leaf=4, min_samples_split=2, n_estimators=150; total time=10.7min\n",
      "[CV] END max_depth=10, min_samples_leaf=4, min_samples_split=5, n_estimators=100; total time= 7.1min\n",
      "[CV] END max_depth=10, min_samples_leaf=4, min_samples_split=10, n_estimators=50; total time= 3.7min\n",
      "[CV] END max_depth=10, min_samples_leaf=4, min_samples_split=10, n_estimators=50; total time= 3.8min\n",
      "[CV] END max_depth=10, min_samples_leaf=4, min_samples_split=10, n_estimators=50; total time= 3.8min\n",
      "[CV] END max_depth=10, min_samples_leaf=4, min_samples_split=5, n_estimators=150; total time=11.0min\n",
      "[CV] END max_depth=10, min_samples_leaf=4, min_samples_split=5, n_estimators=150; total time=11.1min\n",
      "[CV] END max_depth=10, min_samples_leaf=4, min_samples_split=10, n_estimators=100; total time= 7.5min\n",
      "[CV] END max_depth=10, min_samples_leaf=4, min_samples_split=10, n_estimators=100; total time= 7.5min\n",
      "[CV] END max_depth=10, min_samples_leaf=4, min_samples_split=5, n_estimators=150; total time=11.1min\n",
      "[CV] END max_depth=10, min_samples_leaf=4, min_samples_split=10, n_estimators=100; total time= 7.4min\n",
      "[CV] END max_depth=15, min_samples_leaf=1, min_samples_split=2, n_estimators=50; total time= 4.1min\n",
      "[CV] END max_depth=15, min_samples_leaf=1, min_samples_split=2, n_estimators=50; total time= 4.2min\n",
      "[CV] END max_depth=15, min_samples_leaf=1, min_samples_split=2, n_estimators=50; total time= 4.2min\n",
      "[CV] END max_depth=10, min_samples_leaf=4, min_samples_split=10, n_estimators=150; total time=10.6min\n",
      "[CV] END max_depth=10, min_samples_leaf=4, min_samples_split=10, n_estimators=150; total time=10.7min\n",
      "[CV] END max_depth=10, min_samples_leaf=4, min_samples_split=10, n_estimators=150; total time=10.3min\n",
      "[CV] END max_depth=15, min_samples_leaf=1, min_samples_split=2, n_estimators=100; total time= 8.3min\n",
      "[CV] END max_depth=15, min_samples_leaf=1, min_samples_split=2, n_estimators=100; total time= 8.3min\n",
      "[CV] END max_depth=15, min_samples_leaf=1, min_samples_split=5, n_estimators=50; total time= 4.1min\n",
      "[CV] END max_depth=15, min_samples_leaf=1, min_samples_split=2, n_estimators=100; total time= 8.3min\n",
      "[CV] END max_depth=15, min_samples_leaf=1, min_samples_split=5, n_estimators=50; total time= 4.2min\n",
      "[CV] END max_depth=15, min_samples_leaf=1, min_samples_split=5, n_estimators=50; total time= 4.2min\n",
      "[CV] END max_depth=15, min_samples_leaf=1, min_samples_split=2, n_estimators=150; total time=12.7min\n",
      "[CV] END max_depth=15, min_samples_leaf=1, min_samples_split=2, n_estimators=150; total time=12.7min\n",
      "[CV] END max_depth=15, min_samples_leaf=1, min_samples_split=5, n_estimators=100; total time= 8.8min\n",
      "[CV] END max_depth=15, min_samples_leaf=1, min_samples_split=2, n_estimators=150; total time=13.0min\n",
      "[CV] END max_depth=15, min_samples_leaf=1, min_samples_split=5, n_estimators=100; total time= 8.8min\n",
      "[CV] END max_depth=15, min_samples_leaf=1, min_samples_split=5, n_estimators=100; total time= 9.0min\n",
      "[CV] END max_depth=15, min_samples_leaf=1, min_samples_split=10, n_estimators=50; total time= 4.5min\n",
      "[CV] END max_depth=15, min_samples_leaf=1, min_samples_split=10, n_estimators=50; total time= 4.5min\n",
      "[CV] END max_depth=15, min_samples_leaf=1, min_samples_split=10, n_estimators=50; total time= 4.4min\n",
      "[CV] END max_depth=15, min_samples_leaf=1, min_samples_split=5, n_estimators=150; total time=13.5min\n",
      "[CV] END max_depth=15, min_samples_leaf=1, min_samples_split=5, n_estimators=150; total time=13.5min\n",
      "[CV] END max_depth=15, min_samples_leaf=1, min_samples_split=10, n_estimators=100; total time= 8.9min\n",
      "[CV] END max_depth=15, min_samples_leaf=1, min_samples_split=10, n_estimators=100; total time= 8.9min\n",
      "[CV] END max_depth=15, min_samples_leaf=1, min_samples_split=5, n_estimators=150; total time=13.4min\n",
      "[CV] END max_depth=15, min_samples_leaf=1, min_samples_split=10, n_estimators=100; total time= 8.9min\n",
      "[CV] END max_depth=15, min_samples_leaf=2, min_samples_split=2, n_estimators=50; total time= 4.3min\n",
      "[CV] END max_depth=15, min_samples_leaf=2, min_samples_split=2, n_estimators=50; total time= 4.2min\n",
      "[CV] END max_depth=15, min_samples_leaf=2, min_samples_split=2, n_estimators=50; total time= 4.2min\n",
      "[CV] END max_depth=15, min_samples_leaf=1, min_samples_split=10, n_estimators=150; total time=13.0min\n",
      "[CV] END max_depth=15, min_samples_leaf=1, min_samples_split=10, n_estimators=150; total time=12.9min\n",
      "[CV] END max_depth=15, min_samples_leaf=1, min_samples_split=10, n_estimators=150; total time=13.0min\n",
      "[CV] END max_depth=15, min_samples_leaf=2, min_samples_split=2, n_estimators=100; total time= 8.6min\n",
      "[CV] END max_depth=15, min_samples_leaf=2, min_samples_split=2, n_estimators=100; total time= 8.6min\n",
      "[CV] END max_depth=15, min_samples_leaf=2, min_samples_split=2, n_estimators=100; total time= 8.7min\n",
      "[CV] END max_depth=15, min_samples_leaf=2, min_samples_split=5, n_estimators=50; total time= 4.3min\n",
      "[CV] END max_depth=15, min_samples_leaf=2, min_samples_split=5, n_estimators=50; total time= 4.4min\n",
      "[CV] END max_depth=15, min_samples_leaf=2, min_samples_split=5, n_estimators=50; total time= 4.4min\n",
      "[CV] END max_depth=15, min_samples_leaf=2, min_samples_split=2, n_estimators=150; total time=13.2min\n",
      "[CV] END max_depth=15, min_samples_leaf=2, min_samples_split=2, n_estimators=150; total time=13.2min\n",
      "[CV] END max_depth=15, min_samples_leaf=2, min_samples_split=5, n_estimators=100; total time= 8.9min\n",
      "[CV] END max_depth=15, min_samples_leaf=2, min_samples_split=5, n_estimators=100; total time= 8.9min\n",
      "[CV] END max_depth=15, min_samples_leaf=2, min_samples_split=2, n_estimators=150; total time=13.3min\n",
      "[CV] END max_depth=15, min_samples_leaf=2, min_samples_split=5, n_estimators=100; total time= 8.9min\n",
      "[CV] END max_depth=15, min_samples_leaf=2, min_samples_split=10, n_estimators=50; total time= 4.3min\n",
      "[CV] END max_depth=15, min_samples_leaf=2, min_samples_split=10, n_estimators=50; total time= 4.1min\n",
      "[CV] END max_depth=15, min_samples_leaf=2, min_samples_split=10, n_estimators=50; total time= 4.1min\n",
      "[CV] END max_depth=15, min_samples_leaf=2, min_samples_split=5, n_estimators=150; total time=12.9min\n",
      "[CV] END max_depth=15, min_samples_leaf=2, min_samples_split=5, n_estimators=150; total time=13.0min\n",
      "[CV] END max_depth=15, min_samples_leaf=2, min_samples_split=10, n_estimators=100; total time= 8.5min\n",
      "[CV] END max_depth=15, min_samples_leaf=2, min_samples_split=10, n_estimators=100; total time= 8.4min\n",
      "[CV] END max_depth=15, min_samples_leaf=2, min_samples_split=5, n_estimators=150; total time=12.8min\n",
      "[CV] END max_depth=15, min_samples_leaf=2, min_samples_split=10, n_estimators=100; total time= 8.6min\n",
      "[CV] END max_depth=15, min_samples_leaf=4, min_samples_split=2, n_estimators=50; total time= 4.4min\n",
      "[CV] END max_depth=15, min_samples_leaf=4, min_samples_split=2, n_estimators=50; total time= 4.7min\n",
      "[CV] END max_depth=15, min_samples_leaf=4, min_samples_split=2, n_estimators=50; total time= 4.7min\n",
      "[CV] END max_depth=15, min_samples_leaf=2, min_samples_split=10, n_estimators=150; total time=13.2min\n",
      "[CV] END max_depth=15, min_samples_leaf=2, min_samples_split=10, n_estimators=150; total time=13.4min\n",
      "[CV] END max_depth=15, min_samples_leaf=4, min_samples_split=2, n_estimators=100; total time= 9.2min\n",
      "[CV] END max_depth=15, min_samples_leaf=4, min_samples_split=2, n_estimators=100; total time= 9.3min\n",
      "[CV] END max_depth=15, min_samples_leaf=2, min_samples_split=10, n_estimators=150; total time=13.5min\n",
      "[CV] END max_depth=15, min_samples_leaf=4, min_samples_split=2, n_estimators=100; total time= 9.2min\n",
      "[CV] END max_depth=15, min_samples_leaf=4, min_samples_split=5, n_estimators=50; total time= 4.6min\n",
      "[CV] END max_depth=15, min_samples_leaf=4, min_samples_split=5, n_estimators=50; total time= 4.4min\n",
      "[CV] END max_depth=15, min_samples_leaf=4, min_samples_split=5, n_estimators=50; total time= 4.2min\n",
      "[CV] END max_depth=15, min_samples_leaf=4, min_samples_split=2, n_estimators=150; total time=13.2min\n",
      "[CV] END max_depth=15, min_samples_leaf=4, min_samples_split=2, n_estimators=150; total time=13.2min\n",
      "[CV] END max_depth=15, min_samples_leaf=4, min_samples_split=5, n_estimators=100; total time= 9.1min\n",
      "[CV] END max_depth=15, min_samples_leaf=4, min_samples_split=2, n_estimators=150; total time=13.9min\n",
      "[CV] END max_depth=15, min_samples_leaf=4, min_samples_split=5, n_estimators=100; total time= 9.2min\n",
      "[CV] END max_depth=15, min_samples_leaf=4, min_samples_split=5, n_estimators=100; total time= 9.3min\n",
      "[CV] END max_depth=15, min_samples_leaf=4, min_samples_split=10, n_estimators=50; total time= 5.0min\n",
      "[CV] END max_depth=15, min_samples_leaf=4, min_samples_split=10, n_estimators=50; total time= 4.4min\n",
      "[CV] END max_depth=15, min_samples_leaf=4, min_samples_split=10, n_estimators=50; total time= 4.2min\n",
      "[CV] END max_depth=15, min_samples_leaf=4, min_samples_split=5, n_estimators=150; total time=19.9min\n",
      "[CV] END max_depth=15, min_samples_leaf=4, min_samples_split=5, n_estimators=150; total time=19.9min\n",
      "[CV] END max_depth=15, min_samples_leaf=4, min_samples_split=10, n_estimators=100; total time=14.7min\n",
      "[CV] END max_depth=15, min_samples_leaf=4, min_samples_split=10, n_estimators=100; total time=14.7min\n",
      "[CV] END max_depth=15, min_samples_leaf=4, min_samples_split=10, n_estimators=100; total time=14.7min\n",
      "[CV] END max_depth=15, min_samples_leaf=4, min_samples_split=5, n_estimators=150; total time=19.8min\n",
      "[CV] END max_depth=None, min_samples_leaf=1, min_samples_split=2, n_estimators=50; total time= 5.6min\n",
      "[CV] END max_depth=None, min_samples_leaf=1, min_samples_split=2, n_estimators=50; total time= 5.5min\n",
      "[CV] END max_depth=None, min_samples_leaf=1, min_samples_split=2, n_estimators=50; total time= 5.5min\n",
      "[CV] END max_depth=15, min_samples_leaf=4, min_samples_split=10, n_estimators=150; total time=18.1min\n",
      "[CV] END max_depth=15, min_samples_leaf=4, min_samples_split=10, n_estimators=150; total time=18.1min\n",
      "[CV] END max_depth=15, min_samples_leaf=4, min_samples_split=10, n_estimators=150; total time=11.3min\n",
      "[CV] END max_depth=None, min_samples_leaf=1, min_samples_split=2, n_estimators=100; total time=11.1min\n",
      "[CV] END max_depth=None, min_samples_leaf=1, min_samples_split=2, n_estimators=100; total time=11.0min\n",
      "[CV] END max_depth=None, min_samples_leaf=1, min_samples_split=5, n_estimators=50; total time= 5.0min\n",
      "[CV] END max_depth=None, min_samples_leaf=1, min_samples_split=5, n_estimators=50; total time= 5.4min\n",
      "[CV] END max_depth=None, min_samples_leaf=1, min_samples_split=2, n_estimators=100; total time=11.3min\n",
      "[CV] END max_depth=None, min_samples_leaf=1, min_samples_split=5, n_estimators=50; total time= 6.0min\n",
      "[CV] END max_depth=None, min_samples_leaf=1, min_samples_split=2, n_estimators=150; total time=17.0min\n",
      "[CV] END max_depth=None, min_samples_leaf=1, min_samples_split=5, n_estimators=100; total time=11.3min\n",
      "[CV] END max_depth=None, min_samples_leaf=1, min_samples_split=2, n_estimators=150; total time=17.0min\n",
      "[CV] END max_depth=None, min_samples_leaf=1, min_samples_split=5, n_estimators=100; total time=11.1min\n",
      "[CV] END max_depth=None, min_samples_leaf=1, min_samples_split=2, n_estimators=150; total time=17.1min\n",
      "[CV] END max_depth=None, min_samples_leaf=1, min_samples_split=5, n_estimators=100; total time=10.9min\n",
      "[CV] END max_depth=None, min_samples_leaf=1, min_samples_split=10, n_estimators=50; total time= 5.1min\n",
      "[CV] END max_depth=None, min_samples_leaf=1, min_samples_split=10, n_estimators=50; total time= 5.0min\n",
      "[CV] END max_depth=None, min_samples_leaf=1, min_samples_split=10, n_estimators=50; total time= 5.1min\n",
      "[CV] END max_depth=None, min_samples_leaf=1, min_samples_split=5, n_estimators=150; total time=15.8min\n",
      "[CV] END max_depth=None, min_samples_leaf=1, min_samples_split=5, n_estimators=150; total time=15.5min\n",
      "[CV] END max_depth=None, min_samples_leaf=1, min_samples_split=10, n_estimators=100; total time= 9.9min\n",
      "[CV] END max_depth=None, min_samples_leaf=1, min_samples_split=10, n_estimators=100; total time= 9.9min\n",
      "[CV] END max_depth=None, min_samples_leaf=1, min_samples_split=5, n_estimators=150; total time=16.1min\n",
      "[CV] END max_depth=None, min_samples_leaf=1, min_samples_split=10, n_estimators=100; total time=10.8min\n",
      "[CV] END max_depth=None, min_samples_leaf=2, min_samples_split=2, n_estimators=50; total time= 5.8min\n",
      "[CV] END max_depth=None, min_samples_leaf=2, min_samples_split=2, n_estimators=50; total time= 5.9min\n",
      "[CV] END max_depth=None, min_samples_leaf=2, min_samples_split=2, n_estimators=50; total time= 5.9min\n",
      "[CV] END max_depth=None, min_samples_leaf=1, min_samples_split=10, n_estimators=150; total time=15.8min\n",
      "[CV] END max_depth=None, min_samples_leaf=1, min_samples_split=10, n_estimators=150; total time=15.9min\n",
      "[CV] END max_depth=None, min_samples_leaf=1, min_samples_split=10, n_estimators=150; total time=15.9min\n",
      "[CV] END max_depth=None, min_samples_leaf=2, min_samples_split=2, n_estimators=100; total time=10.4min\n",
      "[CV] END max_depth=None, min_samples_leaf=2, min_samples_split=5, n_estimators=50; total time= 5.1min\n",
      "[CV] END max_depth=None, min_samples_leaf=2, min_samples_split=2, n_estimators=100; total time=10.3min\n",
      "[CV] END max_depth=None, min_samples_leaf=2, min_samples_split=2, n_estimators=100; total time=10.3min\n",
      "[CV] END max_depth=None, min_samples_leaf=2, min_samples_split=5, n_estimators=50; total time= 5.0min\n",
      "[CV] END max_depth=None, min_samples_leaf=2, min_samples_split=5, n_estimators=50; total time= 5.0min\n",
      "[CV] END max_depth=None, min_samples_leaf=2, min_samples_split=2, n_estimators=150; total time=15.1min\n",
      "[CV] END max_depth=None, min_samples_leaf=2, min_samples_split=2, n_estimators=150; total time=15.1min\n",
      "[CV] END max_depth=None, min_samples_leaf=2, min_samples_split=2, n_estimators=150; total time=15.0min\n",
      "[CV] END max_depth=None, min_samples_leaf=2, min_samples_split=5, n_estimators=100; total time= 9.8min\n",
      "[CV] END max_depth=None, min_samples_leaf=2, min_samples_split=5, n_estimators=100; total time= 9.8min\n",
      "[CV] END max_depth=None, min_samples_leaf=2, min_samples_split=5, n_estimators=100; total time= 9.9min\n",
      "[CV] END max_depth=None, min_samples_leaf=2, min_samples_split=10, n_estimators=50; total time= 4.8min\n",
      "[CV] END max_depth=None, min_samples_leaf=2, min_samples_split=10, n_estimators=50; total time= 4.8min\n",
      "[CV] END max_depth=None, min_samples_leaf=2, min_samples_split=10, n_estimators=50; total time= 4.8min\n",
      "[CV] END max_depth=None, min_samples_leaf=2, min_samples_split=5, n_estimators=150; total time=14.8min\n",
      "[CV] END max_depth=None, min_samples_leaf=2, min_samples_split=5, n_estimators=150; total time=14.8min\n",
      "[CV] END max_depth=None, min_samples_leaf=2, min_samples_split=10, n_estimators=100; total time= 9.8min\n",
      "[CV] END max_depth=None, min_samples_leaf=2, min_samples_split=10, n_estimators=100; total time= 9.8min\n",
      "[CV] END max_depth=None, min_samples_leaf=2, min_samples_split=5, n_estimators=150; total time=14.9min\n",
      "[CV] END max_depth=None, min_samples_leaf=2, min_samples_split=10, n_estimators=100; total time= 9.9min\n",
      "[CV] END max_depth=None, min_samples_leaf=4, min_samples_split=2, n_estimators=50; total time= 4.8min\n",
      "[CV] END max_depth=None, min_samples_leaf=4, min_samples_split=2, n_estimators=50; total time= 4.8min\n",
      "[CV] END max_depth=None, min_samples_leaf=4, min_samples_split=2, n_estimators=50; total time= 4.8min\n",
      "[CV] END max_depth=None, min_samples_leaf=2, min_samples_split=10, n_estimators=150; total time=14.6min\n",
      "[CV] END max_depth=None, min_samples_leaf=2, min_samples_split=10, n_estimators=150; total time=14.6min\n",
      "[CV] END max_depth=None, min_samples_leaf=4, min_samples_split=2, n_estimators=100; total time= 9.4min\n",
      "[CV] END max_depth=None, min_samples_leaf=4, min_samples_split=2, n_estimators=100; total time= 9.3min\n",
      "[CV] END max_depth=None, min_samples_leaf=2, min_samples_split=10, n_estimators=150; total time=14.5min\n",
      "[CV] END max_depth=None, min_samples_leaf=4, min_samples_split=2, n_estimators=100; total time= 9.4min\n",
      "[CV] END max_depth=None, min_samples_leaf=4, min_samples_split=5, n_estimators=50; total time= 4.8min\n",
      "[CV] END max_depth=None, min_samples_leaf=4, min_samples_split=5, n_estimators=50; total time= 4.8min\n",
      "[CV] END max_depth=None, min_samples_leaf=4, min_samples_split=5, n_estimators=50; total time= 4.8min\n"
     ]
    }
   ],
   "source": [
    "param_grid = {\n",
    "    'n_estimators': [50, 100, 150],\n",
    "    'max_depth': [5, 10, 15, None],\n",
    "    'min_samples_split': [2, 5, 10],\n",
    "    'min_samples_leaf': [1, 2, 4]\n",
    "}\n",
    "grid_search = GridSearchCV(estimator=rf, param_grid=param_grid, cv=3, n_jobs=-1, verbose=2)\n",
    "grid_search.fit(X_train, y_train)\n",
    "best_params = grid_search.best_params_\n",
    "print(\"Best parameters found using GridSearchCV: \", best_params)"
   ]
  },
  {
   "cell_type": "code",
   "execution_count": null,
   "metadata": {},
   "outputs": [],
   "source": [
    "rf_tuned = RandomForestRegressor(random_state=42, **best_params)\n",
    "rf_tuned.fit(X_train, y_train)"
   ]
  },
  {
   "cell_type": "code",
   "execution_count": null,
   "metadata": {},
   "outputs": [],
   "source": [
    "y_pred_train_tuned = rf_tuned.predict(X_train)\n",
    "y_pred_test_tuned = rf_tuned.predict(X_test)\n",
    "mse_train_tuned = mean_squared_error(y_train, y_pred_train_tuned)\n",
    "mse_test_tuned = mean_squared_error(y_test, y_pred_test_tuned)\n",
    "r2_train_tuned = r2_score(y_train, y_pred_train_tuned)\n",
    "r2_test_tuned = r2_score(y_test, y_pred_test_tuned)"
   ]
  },
  {
   "cell_type": "code",
   "execution_count": null,
   "metadata": {},
   "outputs": [],
   "source": [
    "print(\"Training set Mean Squared Error (tuned model): \", mse_train_tuned)\n",
    "print(\"Testing set Mean Squared Error (tuned model): \", mse_test_tuned)\n",
    "print(\"Training set R-squared score (tuned model): \", r2_train_tuned)\n",
    "print(\"Testing set R-squared score (tuned model): \", r2_test_tuned)"
   ]
  }
 ],
 "metadata": {
  "kernelspec": {
   "display_name": "Python 3",
   "language": "python",
   "name": "python3"
  },
  "language_info": {
   "codemirror_mode": {
    "name": "ipython",
    "version": 3
   },
   "file_extension": ".py",
   "mimetype": "text/x-python",
   "name": "python",
   "nbconvert_exporter": "python",
   "pygments_lexer": "ipython3",
   "version": "3.11.3"
  },
  "orig_nbformat": 4
 },
 "nbformat": 4,
 "nbformat_minor": 2
}
